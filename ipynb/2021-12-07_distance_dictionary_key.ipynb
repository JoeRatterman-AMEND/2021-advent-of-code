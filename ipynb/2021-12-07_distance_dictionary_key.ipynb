{
 "cells": [
  {
   "cell_type": "code",
   "execution_count": 1,
   "metadata": {},
   "outputs": [],
   "source": [
    "from collections import OrderedDict, Counter\n",
    "from itertools import cycle, islice"
   ]
  },
  {
   "cell_type": "code",
   "execution_count": 2,
   "metadata": {},
   "outputs": [],
   "source": [
    "# Load input data\n",
    "file_path = \"C:\\\\Users\\\\JoeRatterman\\\\Documents\\\\GitHub\\\\2021-advent-of-code\\\\input-files\\\\2021-12-07_input.txt\"\n",
    "data_list = open(file_path, 'r').read().split('\\n')\n",
    "\n",
    "# Clean data\n",
    "data_list = data_list[0].split(\",\")\n",
    "data_list = [int(x) for x in data_list]\n",
    "\n",
    "# Generate count data\n",
    "count_dict = Counter(data_list)"
   ]
  },
  {
   "cell_type": "code",
   "execution_count": 3,
   "metadata": {},
   "outputs": [],
   "source": [
    "# Add each potential horizontal location to dictionary with 0 value\n",
    "for i in range(min(data_list), max(data_list)):\n",
    "    if i not in count_dict.keys():\n",
    "        count_dict[i] = 0\n",
    "\n",
    "# Sort the count dictionary\n",
    "count_dict = OrderedDict(sorted(count_dict.items()))"
   ]
  },
  {
   "cell_type": "code",
   "execution_count": 4,
   "metadata": {},
   "outputs": [],
   "source": [
    "# Distance to each position in range for each other position\n",
    "def calc_cumulative_distance(dictionary):\n",
    "\n",
    "    # Loop through each key value in range dictionary\n",
    "    k_list = []\n",
    "    for k in list(dictionary.keys()):\n",
    "        \n",
    "        # Loop through each key value inside of each key value\n",
    "        dist_list = []\n",
    "        for q in list(dictionary.keys()):\n",
    "\n",
    "            # Only calculate distance if there is an existing value for a given location \n",
    "            if dictionary[q] > 0:\n",
    "\n",
    "                # Calculate horizontal distance * number of crabs to move\n",
    "                dist = abs(k - q)*dictionary[q]\n",
    "                dist_list.append(dist)\n",
    "\n",
    "        # Append cumulative distance for each crab to each possible location to list\n",
    "        k_list.append(sum(dist_list))\n",
    "    \n",
    "    # Return the minimum fuel required\n",
    "    return(min(k_list))\n",
    "        "
   ]
  },
  {
   "cell_type": "code",
   "execution_count": 5,
   "metadata": {},
   "outputs": [
    {
     "data": {
      "text/plain": [
       "336721"
      ]
     },
     "execution_count": 5,
     "metadata": {},
     "output_type": "execute_result"
    }
   ],
   "source": [
    "# Calculate part #1\n",
    "calc_cumulative_distance(count_dict)"
   ]
  },
  {
   "cell_type": "code",
   "execution_count": 6,
   "metadata": {},
   "outputs": [],
   "source": [
    "# Function to calculate additive factorial total - used in phase 2 calculation\n",
    "def add_factorial(n):\n",
    "     \n",
    "    # single line to find factorial\n",
    "    return 1 if (n==1 or n==0) else n + add_factorial(n - 1)\n",
    " "
   ]
  },
  {
   "cell_type": "code",
   "execution_count": 7,
   "metadata": {},
   "outputs": [],
   "source": [
    "# Calculate distance using a factorial multiplier\n",
    "# Could be faster using a pre-calculated look-up dictionary for each possible distance\n",
    "def calc_factorial_cum_dist(dictionary):\n",
    "\n",
    "    # Loop through each key value in range dictionary\n",
    "    k_list = []\n",
    "    for k in list(dictionary.keys()):\n",
    "        # Loop through each key value inside of each key value\n",
    "        dist_list = []\n",
    "        for q in list(dictionary.keys()):\n",
    "\n",
    "            # Only calculate distance if there is an existing value for a given location \n",
    "            if dictionary[q] > 0:\n",
    "\n",
    "                # Calculate horizontal distance * number of crabs to move\n",
    "                dist = add_factorial(abs(k - q))*dictionary[q]\n",
    "                dist_list.append(dist)\n",
    "\n",
    "        # Append cumulative distance for each crab to each possible location to list\n",
    "        k_list.append(sum(dist_list))\n",
    "\n",
    "    # Return the minimum fuel required\n",
    "    return(min(k_list))"
   ]
  },
  {
   "cell_type": "code",
   "execution_count": 8,
   "metadata": {},
   "outputs": [
    {
     "data": {
      "text/plain": [
       "91638945"
      ]
     },
     "execution_count": 8,
     "metadata": {},
     "output_type": "execute_result"
    }
   ],
   "source": [
    "# Solve for phase 2\n",
    "calc_factorial_cum_dist(count_dict)"
   ]
  },
  {
   "cell_type": "code",
   "execution_count": null,
   "metadata": {},
   "outputs": [],
   "source": []
  }
 ],
 "metadata": {
  "interpreter": {
   "hash": "2a3eb9d1762ced21ab592cb88b32ee1eb2a160e74d175aca6c3a2172cd8e5637"
  },
  "kernelspec": {
   "display_name": "Python 3.9.2 64-bit",
   "language": "python",
   "name": "python3"
  },
  "language_info": {
   "codemirror_mode": {
    "name": "ipython",
    "version": 3
   },
   "file_extension": ".py",
   "mimetype": "text/x-python",
   "name": "python",
   "nbconvert_exporter": "python",
   "pygments_lexer": "ipython3",
   "version": "3.9.2"
  },
  "orig_nbformat": 4
 },
 "nbformat": 4,
 "nbformat_minor": 2
}
