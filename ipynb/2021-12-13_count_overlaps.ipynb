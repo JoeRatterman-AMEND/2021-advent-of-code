{
 "cells": [
  {
   "cell_type": "code",
   "execution_count": 183,
   "metadata": {},
   "outputs": [
    {
     "name": "stdout",
     "output_type": "stream",
     "text": [
      "['43,593', '1139,385', '1178,51', '216,679', '743,185', '1241,250', '197,60', '479,700', '565,845', '1022,330']\n",
      "['fold along y=447', 'fold along y=223', 'fold along y=111', 'fold along y=55', 'fold along y=27', 'fold along y=13', 'fold along y=6']\n",
      "['fold along x=655', 'fold along x=327', 'fold along x=163', 'fold along x=81', 'fold along x=40']\n"
     ]
    }
   ],
   "source": [
    "from collections import Counter\n",
    "import matplotlib.pyplot as plt\n",
    "import numpy as np\n",
    "# Load input data\n",
    "file_path = \"C:\\\\Users\\\\JoeRatterman\\\\Documents\\\\GitHub\\\\2021-advent-of-code\\\\input-files\\\\2021-12-13_input.txt\"\n",
    "\n",
    "data_list = open(file_path, 'r').read().split('\\n')\n",
    "input_list = [x for x in data_list if not x.find(\"y=\") > 0 and not x.find(\"x=\") > 0 and x != '']\n",
    "\n",
    "# Split out folds from input\n",
    "folds = [x for x in data_list if x.startswith(\"fold \")]\n",
    "y_folds = [x for x in folds if x.find(\"y=\") > 0]\n",
    "x_folds = [x for x in folds if x.find(\"x=\") > 0]\n",
    "print(input_list[0:10])\n",
    "print(y_folds)\n",
    "print(x_folds)"
   ]
  },
  {
   "cell_type": "code",
   "execution_count": 194,
   "metadata": {},
   "outputs": [
    {
     "data": {
      "text/plain": [
       "1"
      ]
     },
     "execution_count": 194,
     "metadata": {},
     "output_type": "execute_result"
    }
   ],
   "source": [
    "max(tuple_list[1])"
   ]
  },
  {
   "cell_type": "code",
   "execution_count": 195,
   "metadata": {},
   "outputs": [],
   "source": [
    "tuple_list = []\n",
    "for i in range(len(input_list)):\n",
    "    \n",
    "    str_obj = input_list[i].split(\",\")\n",
    "    tuple_list.append((int(str_obj[0]), int(str_obj[1])))\n"
   ]
  },
  {
   "cell_type": "code",
   "execution_count": 196,
   "metadata": {},
   "outputs": [
    {
     "data": {
      "text/plain": [
       "419.5"
      ]
     },
     "execution_count": 196,
     "metadata": {},
     "output_type": "execute_result"
    }
   ],
   "source": [
    "len(tuple_list)/2"
   ]
  },
  {
   "cell_type": "code",
   "execution_count": 197,
   "metadata": {},
   "outputs": [
    {
     "name": "stdout",
     "output_type": "stream",
     "text": [
      "fold along x=655\n",
      "704\n",
      "fold along y=447\n",
      "595\n",
      "fold along x=327\n",
      "495\n",
      "fold along y=223\n",
      "422\n",
      "fold along x=163\n",
      "351\n",
      "fold along y=111\n",
      "294\n",
      "fold along x=81\n",
      "250\n",
      "fold along y=55\n",
      "215\n",
      "fold along x=40\n",
      "178\n",
      "fold along y=27\n",
      "149\n",
      "fold along y=13\n",
      "123\n",
      "fold along y=6\n",
      "103\n"
     ]
    }
   ],
   "source": [
    "remaining_tuples = []\n",
    "\n",
    "for fold_ins in folds:\n",
    "    print(fold_ins)\n",
    "    # If a fold over the y axis\n",
    "    if fold_ins in y_folds:\n",
    "\n",
    "        # Loop through the points\n",
    "        new_point = []\n",
    "        below_fold = []\n",
    "\n",
    "        for i in range(len(tuple_list)):\n",
    "\n",
    "            # If point is below the fold\n",
    "            if tuple_list[i][1] > int(fold_ins.split(\"=\")[1]):\n",
    "                \n",
    "                # Add items below fold to list\n",
    "                below_fold.append(tuple_list[i])\n",
    "\n",
    "                # Calculate distance to fold\n",
    "                dist_fold = tuple_list[i][1] - int(fold_ins.split(\"=\")[1])\n",
    "\n",
    "                # Calculate new point\n",
    "                new_y = tuple_list[i][1] - dist_fold*2\n",
    "                new_point.append((tuple_list[i][0], new_y))\n",
    "               \n",
    "        \n",
    "        # print(\"below: \",  below_fold)\n",
    "        # print(\"original: \", tuple_list)\n",
    "        # print(\"new: \", new_point)\n",
    "        tuple_list = [x for x in tuple_list if x not in below_fold]\n",
    "        tuple_list = list(set(tuple_list + new_point))\n",
    "        \n",
    "\n",
    "\n",
    "\n",
    "    else:\n",
    "\n",
    "        # Loop through the points\n",
    "        new_point = []\n",
    "        right_fold = []\n",
    "\n",
    "        for i in range(len(tuple_list)):\n",
    "\n",
    "            # If point is below the fold\n",
    "\n",
    "            if tuple_list[i][0] > int(fold_ins.split(\"=\")[1]):\n",
    "                \n",
    "                # Add items below fold to list\n",
    "                right_fold.append(tuple_list[i])\n",
    "\n",
    "                # Calculate distance to fold\n",
    "                dist_fold = tuple_list[i][0] - int(fold_ins.split(\"=\")[1])\n",
    "\n",
    "                # Calculate new point\n",
    "                new_x = tuple_list[i][0] - dist_fold*2\n",
    "                new_point.append((new_x, tuple_list[i][1]))\n",
    "               \n",
    "\n",
    "\n",
    "        tuple_list = [x for x in tuple_list if x not in right_fold]\n",
    "        tuple_list = list(set(tuple_list + new_point))\n",
    "        \n",
    "\n",
    "    print(len(tuple_list))\n",
    "    \n"
   ]
  },
  {
   "cell_type": "code",
   "execution_count": 241,
   "metadata": {},
   "outputs": [
    {
     "name": "stdout",
     "output_type": "stream",
     "text": [
      "38 5\n"
     ]
    }
   ],
   "source": [
    "# Calculate matrix dimensions\n",
    "max_x = 0\n",
    "max_y = 0\n",
    "\n",
    "for i in range(len(tuple_list)):\n",
    "    cur_x = tuple_list[i][0]\n",
    "    cur_y = tuple_list[i][1]\n",
    "\n",
    "    if cur_x > max_x:\n",
    "        max_x = cur_x\n",
    "    \n",
    "    if cur_y > max_y:\n",
    "        max_y = cur_y\n",
    "\n",
    "print(max_x, max_y)"
   ]
  },
  {
   "cell_type": "code",
   "execution_count": 258,
   "metadata": {},
   "outputs": [
    {
     "name": "stdout",
     "output_type": "stream",
     "text": [
      "[['#' '' '' '#' '' '' '#' '#' '' '' '' '#' '#' '' '' '' '' '#' '#' '' '#' '#' '#' '' '' '#' '#' '#' '#' '' '#' '' '' '#' '' '' '#' '#' '']\n",
      " ['#' '' '' '#' '' '#' '' '' '#' '' '#' '' '' '#' '' '' '' '' '#' '' '#' '' '' '#' '' '#' '' '' '' '' '#' '' '' '#' '' '#' '' '' '#']\n",
      " ['#' '#' '#' '#' '' '#' '' '' '' '' '#' '' '' '#' '' '' '' '' '#' '' '#' '#' '#' '' '' '#' '#' '#' '' '' '#' '#' '#' '#' '' '#' '' '' '']\n",
      " ['#' '' '' '#' '' '#' '' '#' '#' '' '#' '#' '#' '#' '' '' '' '' '#' '' '#' '' '' '#' '' '#' '' '' '' '' '#' '' '' '#' '' '#' '' '' '']\n",
      " ['#' '' '' '#' '' '#' '' '' '#' '' '#' '' '' '#' '' '#' '' '' '#' '' '#' '' '' '#' '' '#' '' '' '' '' '#' '' '' '#' '' '#' '' '' '#']\n",
      " ['#' '' '' '#' '' '' '#' '#' '#' '' '#' '' '' '#' '' '' '#' '#' '' '' '#' '#' '#' '' '' '#' '#' '#' '#' '' '#' '' '' '#' '' '' '#' '#' '']]\n"
     ]
    }
   ],
   "source": [
    "# Generate empty matrix\n",
    "base_matrix = np.empty((max_y + 1, max_x + 1), dtype=str)\n",
    "\n",
    "# Loop through and update spots in remaining points\n",
    "for i in range(len(tuple_list)):\n",
    "    base_matrix[tuple_list[i][1]][tuple_list[i][0]] = \"#\"\n",
    "\n",
    "\n",
    "print(base_matrix)\n",
    "\n",
    "# HGAJBEHC\n",
    "\n",
    "\n"
   ]
  }
 ],
 "metadata": {
  "interpreter": {
   "hash": "2a3eb9d1762ced21ab592cb88b32ee1eb2a160e74d175aca6c3a2172cd8e5637"
  },
  "kernelspec": {
   "display_name": "Python 3.9.2 64-bit",
   "language": "python",
   "name": "python3"
  },
  "language_info": {
   "codemirror_mode": {
    "name": "ipython",
    "version": 3
   },
   "file_extension": ".py",
   "mimetype": "text/x-python",
   "name": "python",
   "nbconvert_exporter": "python",
   "pygments_lexer": "ipython3",
   "version": "3.9.2"
  },
  "orig_nbformat": 4
 },
 "nbformat": 4,
 "nbformat_minor": 2
}
