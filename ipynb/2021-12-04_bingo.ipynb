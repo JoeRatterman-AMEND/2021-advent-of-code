{
 "cells": [
  {
   "cell_type": "code",
   "execution_count": 278,
   "metadata": {},
   "outputs": [
    {
     "data": {
      "text/plain": [
       "['59 98 84 27 56', '17 35 18 64 34']"
      ]
     },
     "execution_count": 278,
     "metadata": {},
     "output_type": "execute_result"
    }
   ],
   "source": [
    "# Load required packages\n",
    "import numpy as np\n",
    "from collections import Counter\n",
    "from itertools import islice, repeat\n",
    "  \n",
    "# Load input data\n",
    "file_path = \"C:\\\\Users\\\\JoeRatterman\\\\Documents\\\\GitHub\\\\2021-advent-of-code\\\\input-files\\\\2021-12-04_input.txt\"\n",
    "\n",
    "data_list = open(file_path, 'r').read().split('\\n')\n",
    "\n",
    "# Gather called bingo numbers\n",
    "called_nums = data_list[0]\n",
    "called_nums = called_nums.split(\",\")\n",
    "called_nums = [int(x) for x in called_nums if x]\n",
    "\n",
    "data_list = data_list[1:]\n",
    "for i in range(0,data_list.count('')):\n",
    "    data_list.remove('')\n",
    "\n",
    "data_list[0:2]"
   ]
  },
  {
   "cell_type": "code",
   "execution_count": 279,
   "metadata": {},
   "outputs": [],
   "source": [
    "# Calculate the number bingo boards\n",
    "length_to_split = []\n",
    "length_to_split.extend(repeat(5,int(len(data_list)/5)))\n",
    "\n",
    "# Using islice\n",
    "Inputt = iter(data_list)\n",
    "data_list = [list(islice(Inputt, elem))\n",
    "          for elem in length_to_split]"
   ]
  },
  {
   "cell_type": "code",
   "execution_count": 280,
   "metadata": {},
   "outputs": [],
   "source": [
    "# Separate bingo boards\n",
    "output_matrix = []\n",
    "for m in range(len(data_list)):\n",
    "    for q in range(len(data_list[0])):\n",
    "        val = data_list[m][q].split(\" \")\n",
    "        val = [int(x) for x in val if x]\n",
    "        output_matrix.append(val)"
   ]
  },
  {
   "cell_type": "code",
   "execution_count": 281,
   "metadata": {},
   "outputs": [],
   "source": [
    "# Calculate the number bingo boards\n",
    "length_to_split = []\n",
    "length_to_split.extend(repeat(5,int(len(output_matrix)/5)))\n",
    "\n",
    "# Using islice\n",
    "Inputt = iter(output_matrix)\n",
    "output_matrix = [list(islice(Inputt, elem))\n",
    "          for elem in length_to_split]"
   ]
  },
  {
   "cell_type": "code",
   "execution_count": 282,
   "metadata": {},
   "outputs": [],
   "source": [
    "def calc_bingo(list_obj):\n",
    "\n",
    "    horz_counter = []\n",
    "    vert_counter = []\n",
    "    for i in range(len(list_obj)):\n",
    "        horz_counter.append(list_obj[i][0])\n",
    "        vert_counter.append(list_obj[i][1])\n",
    "\n",
    "    horz_bingo = len({k:v for k,v in Counter(horz_counter).items() if v == 5})\n",
    "    vert_bingo = len({k:v for k,v in Counter(vert_counter).items() if v == 5})\n",
    "\n",
    "    if horz_bingo > 0 or vert_bingo > 0:\n",
    "        return(1)\n",
    "    else:\n",
    "        return(0)\n"
   ]
  },
  {
   "cell_type": "code",
   "execution_count": 283,
   "metadata": {},
   "outputs": [],
   "source": [
    "board_dict = {}\n",
    "\n",
    "for board in range(len(output_matrix)):\n",
    "\n",
    "    call_list = []\n",
    "    bingo_called = 0\n",
    "    nums_called = []\n",
    "    for i in range(len(called_nums)):\n",
    "\n",
    "        # List of called numbers\n",
    "        nums_called.append(called_nums[i])\n",
    "\n",
    "        # Find coordinates of called number\n",
    "        tuple_called = list(zip(*np.where(np.asarray(output_matrix[board]) == called_nums[i])))\n",
    "\n",
    "        # If number is on the board add to call list\n",
    "        if len(tuple_called) > 0:\n",
    "            call_list.append(tuple_called[0])\n",
    "\n",
    "        # Check if there is a bingo\n",
    "        bingo_called = calc_bingo(call_list)\n",
    "        \n",
    "        # If bingo --> end the loop\n",
    "        if bingo_called == 1:\n",
    "          \n",
    "            break\n",
    "\n",
    "  \n",
    "    last_called_num = called_nums[len(nums_called) - 1]\n",
    "    bingo_board = [item for sublist in output_matrix[board] for item in sublist]\n",
    "    score = sum([x for x in bingo_board if not x in called_nums[0:(len(nums_called))]])*last_called_num\n",
    "    \n",
    "\n",
    "    board_dict[board] = {\"Moves\": len(nums_called), \"Score\":score, \"Last Number\": last_called_num}\n"
   ]
  },
  {
   "cell_type": "code",
   "execution_count": 287,
   "metadata": {},
   "outputs": [
    {
     "name": "stdout",
     "output_type": "stream",
     "text": [
      "Moves:  68 Score:  19344\n",
      "Moves:  61 Score:  19694\n",
      "Moves:  58 Score:  2044\n",
      "Moves:  58 Score:  1648\n",
      "Moves:  50 Score:  50765\n",
      "Moves:  50 Score:  29640\n",
      "Moves:  48 Score:  18780\n",
      "Moves:  40 Score:  33984\n",
      "Moves:  38 Score:  19395\n",
      "Moves:  31 Score:  61664\n",
      "Moves:  26 Score:  41503\n"
     ]
    }
   ],
   "source": [
    "board_dict[min(board_dict.keys())]\n",
    "minimum_val = 100\n",
    "for i in range(len(board_dict)):\n",
    "\n",
    "    val = board_dict[i]['Moves']\n",
    "\n",
    "    if val <= minimum_val:\n",
    "\n",
    "        minimum_val = val\n",
    "\n",
    "        if board_dict[i]['Moves'] == minimum_val:\n",
    "\n",
    "            print(\"Moves: \", minimum_val, \"Score: \", board_dict[i]['Score'])"
   ]
  },
  {
   "cell_type": "code",
   "execution_count": 288,
   "metadata": {},
   "outputs": [
    {
     "name": "stdout",
     "output_type": "stream",
     "text": [
      "Moves:  68 Score:  19344\n",
      "Moves:  76 Score:  14353\n",
      "Moves:  86 Score:  3178\n"
     ]
    }
   ],
   "source": [
    "board_dict[min(board_dict.keys())]\n",
    "max_val = 0\n",
    "for i in range(len(board_dict)):\n",
    "\n",
    "    val = board_dict[i]['Moves']\n",
    "\n",
    "    if val >= max_val:\n",
    "\n",
    "        max_val = val\n",
    "\n",
    "        if board_dict[i]['Moves'] == max_val:\n",
    "\n",
    "            print(\"Moves: \", max_val, \"Score: \", board_dict[i]['Score'])\n"
   ]
  },
  {
   "cell_type": "code",
   "execution_count": null,
   "metadata": {},
   "outputs": [],
   "source": []
  }
 ],
 "metadata": {
  "interpreter": {
   "hash": "2a3eb9d1762ced21ab592cb88b32ee1eb2a160e74d175aca6c3a2172cd8e5637"
  },
  "kernelspec": {
   "display_name": "Python 3.9.2 64-bit",
   "language": "python",
   "name": "python3"
  },
  "language_info": {
   "codemirror_mode": {
    "name": "ipython",
    "version": 3
   },
   "file_extension": ".py",
   "mimetype": "text/x-python",
   "name": "python",
   "nbconvert_exporter": "python",
   "pygments_lexer": "ipython3",
   "version": "3.9.2"
  },
  "orig_nbformat": 4
 },
 "nbformat": 4,
 "nbformat_minor": 2
}
