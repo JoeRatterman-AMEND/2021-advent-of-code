{
 "cells": [
  {
   "cell_type": "code",
   "execution_count": 1,
   "metadata": {},
   "outputs": [
    {
     "data": {
      "text/plain": [
       "[191, 185, 188, 189, 204, 213, 215, 227, 222, 221]"
      ]
     },
     "execution_count": 1,
     "metadata": {},
     "output_type": "execute_result"
    }
   ],
   "source": [
    "# Load input data\n",
    "file_path = \"C:\\\\Users\\\\JoeRatterman\\\\Documents\\\\GitHub\\\\2021-advent-of-code\\\\input-files\\\\2021-12-01_challenge_1.txt\"\n",
    "data_list = open(file_path, 'r').read().split('\\n')\n",
    "\n",
    "# Convert list to integers\n",
    "data_list = [int(x) for x in data_list]\n",
    "data_list[0:10]"
   ]
  },
  {
   "cell_type": "code",
   "execution_count": 2,
   "metadata": {},
   "outputs": [],
   "source": [
    "# Define function to calculate depth increases\n",
    "def depth_increase_cntr(depth_list):\n",
    "\n",
    "    # Initialize counters\n",
    "    count = 0\n",
    "    inc_cnt = 0\n",
    "\n",
    "    # Loop through each depth\n",
    "    for i in range(0, len(depth_list)):\n",
    "\n",
    "        # If first iteration - skip to the next iteration\n",
    "        if count == 0:\n",
    "            next\n",
    "\n",
    "        # If current depth is greater than the previous depth add 1\n",
    "        if depth_list[i] > depth_list[i-1]:\n",
    "            inc_cnt += 1\n",
    "        \n",
    "        # Increase list iteration by 1\n",
    "        count += 1\n",
    "\n",
    "    return(inc_cnt)"
   ]
  },
  {
   "cell_type": "code",
   "execution_count": 3,
   "metadata": {},
   "outputs": [
    {
     "data": {
      "text/plain": [
       "1709"
      ]
     },
     "execution_count": 3,
     "metadata": {},
     "output_type": "execute_result"
    }
   ],
   "source": [
    "# Call function to calculate count of depth increases\n",
    "depth_increase_cntr(data_list)"
   ]
  },
  {
   "cell_type": "code",
   "execution_count": 4,
   "metadata": {},
   "outputs": [],
   "source": [
    "# Function to calculate moving average for a list\n",
    "def list_ma(input_list, window):\n",
    "\n",
    "    # Iterate through each item in the list\n",
    "    output_list = []\n",
    "    for i in range(len(input_list)):\n",
    "\n",
    "        if i >= window - 1:\n",
    "            output_list.append(sum(input_list[(i-(window - 1)):i + 1]))\n",
    "\n",
    "    return(output_list)\n"
   ]
  },
  {
   "cell_type": "code",
   "execution_count": 5,
   "metadata": {},
   "outputs": [
    {
     "data": {
      "text/plain": [
       "1761"
      ]
     },
     "execution_count": 5,
     "metadata": {},
     "output_type": "execute_result"
    }
   ],
   "source": [
    "depth_increase_cntr(list_ma(data_list, 3))"
   ]
  }
 ],
 "metadata": {
  "interpreter": {
   "hash": "2a3eb9d1762ced21ab592cb88b32ee1eb2a160e74d175aca6c3a2172cd8e5637"
  },
  "kernelspec": {
   "display_name": "Python 3.9.2 64-bit",
   "language": "python",
   "name": "python3"
  },
  "language_info": {
   "codemirror_mode": {
    "name": "ipython",
    "version": 3
   },
   "file_extension": ".py",
   "mimetype": "text/x-python",
   "name": "python",
   "nbconvert_exporter": "python",
   "pygments_lexer": "ipython3",
   "version": "3.9.2"
  },
  "orig_nbformat": 4
 },
 "nbformat": 4,
 "nbformat_minor": 2
}
