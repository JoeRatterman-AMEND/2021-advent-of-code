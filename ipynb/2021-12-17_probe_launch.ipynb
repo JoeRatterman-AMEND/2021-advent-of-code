{
 "cells": [
  {
   "cell_type": "code",
   "execution_count": 114,
   "metadata": {},
   "outputs": [
    {
     "data": {
      "text/plain": [
       "['138..184', 'y=-125..-71']"
      ]
     },
     "execution_count": 114,
     "metadata": {},
     "output_type": "execute_result"
    }
   ],
   "source": [
    "# Loaded required packages\n",
    "from collections import Counter\n",
    "import numpy as np\n",
    "from collections import defaultdict, deque\n",
    "\n",
    "# Load input data\n",
    "file_path = \"C:\\\\Users\\\\JoeRatterman\\\\Documents\\\\GitHub\\\\2021-advent-of-code\\\\input-files\\\\2021-12-17_input.txt\"\n",
    "data_list = open(file_path, 'r').read().split(\"x=\")[1].split(\", \")\n",
    "\n",
    "data_list"
   ]
  },
  {
   "cell_type": "code",
   "execution_count": 115,
   "metadata": {},
   "outputs": [
    {
     "name": "stdout",
     "output_type": "stream",
     "text": [
      "[138, 184]\n",
      "[-71, -125]\n"
     ]
    }
   ],
   "source": [
    "# Clean input data\n",
    "y_range = data_list[1].split(\"y=\")[1].split(\"..\")\n",
    "x_range = data_list[0].split(\"..\")\n",
    "\n",
    "y_range = sorted([int(y) for y in y_range], reverse = True)\n",
    "x_range = sorted([int(x) for x in x_range])\n",
    "\n",
    "print(x_range)\n",
    "print(y_range)"
   ]
  },
  {
   "cell_type": "code",
   "execution_count": 116,
   "metadata": {},
   "outputs": [],
   "source": [
    "# Function to calculate next position for the probe\n",
    "def next_coord(start_pos, trajectory):\n",
    "\n",
    "    # Calculate new x & y\n",
    "    new_x = start_pos[0] + trajectory[0]\n",
    "    new_y = start_pos[1] + trajectory[1]\n",
    "\n",
    "\n",
    "    # Return the ending position\n",
    "    return([new_x, new_y])"
   ]
  },
  {
   "cell_type": "code",
   "execution_count": 117,
   "metadata": {},
   "outputs": [],
   "source": [
    "# Function to calculate new trajectory\n",
    "def next_trajectory(trajectory):\n",
    "\n",
    "\n",
    "    # Modify horizontal trajectory\n",
    "    if trajectory[0] > 0:\n",
    "        x_traj = trajectory[0] - 1\n",
    "    \n",
    "    elif trajectory[0] < 0:\n",
    "        x_traj = trajectory[0] + 1\n",
    "\n",
    "    else:\n",
    "        x_traj = 0\n",
    "\n",
    "    \n",
    "    # Modify vertical trajectory\n",
    "    y_traj = trajectory[1] - 1\n",
    "\n",
    "    return([x_traj, y_traj])"
   ]
  },
  {
   "cell_type": "code",
   "execution_count": 118,
   "metadata": {},
   "outputs": [],
   "source": [
    "# Funtion to simulate launch at given trajectory\n",
    "def simulate_launch(pos, traj, x_values, y_values):\n",
    "    true_list = []\n",
    "    coord_list = []\n",
    "    while (pos[1] >= y_range[1]) & (pos[0] <= x_range[1]):\n",
    "\n",
    "        coord_list.append(pos)\n",
    "        pos = next_coord(pos, traj)\n",
    "        traj = next_trajectory(traj)\n",
    "\n",
    "        if (pos[0] <= x_values[1]) & (pos[0] >= x_values[0]) & (pos[1] >= y_values[1]) & (pos[1] <= y_values[0]):\n",
    "            true_list.append(1)\n",
    "\n",
    "\n",
    "    # If probe made the target zone, return coordinate list, else nothing\n",
    "    if len(true_list) > 0:\n",
    "        return(coord_list)\n",
    "    \n",
    "    else:\n",
    "        return(None)\n"
   ]
  },
  {
   "cell_type": "code",
   "execution_count": 119,
   "metadata": {},
   "outputs": [],
   "source": [
    "# Function to return max value in list of lists\n",
    "def max_value(input_list):\n",
    "    return(max([sublist[-1] for sublist in input_list]))"
   ]
  },
  {
   "cell_type": "code",
   "execution_count": 120,
   "metadata": {},
   "outputs": [
    {
     "name": "stdout",
     "output_type": "stream",
     "text": [
      "[138, 184]\n",
      "[-71, -125]\n"
     ]
    }
   ],
   "source": [
    "# Define starting position\n",
    "position = [0,0]"
   ]
  },
  {
   "cell_type": "code",
   "execution_count": 125,
   "metadata": {},
   "outputs": [
    {
     "name": "stdout",
     "output_type": "stream",
     "text": [
      "Max Height:  7750\n",
      "Number of Trajectories:  4120\n"
     ]
    }
   ],
   "source": [
    "# Simulate through starting trajectories\n",
    "max_height_list = []\n",
    "for i in range(x_range[1] + 1):\n",
    "    for j in range(y_range[1], abs(y_range[1])*3):\n",
    "        \n",
    "        results = simulate_launch(position, [i,j], x_range, y_range)\n",
    "\n",
    "        if results != None:\n",
    "            max_height_list.append(max_value(results))\n",
    "\n",
    "\n",
    "\n",
    "print(\"Max Height: \", max(max_height_list))\n",
    "print(\"Number of Trajectories: \", len(max_height_list))"
   ]
  }
 ],
 "metadata": {
  "interpreter": {
   "hash": "2a3eb9d1762ced21ab592cb88b32ee1eb2a160e74d175aca6c3a2172cd8e5637"
  },
  "kernelspec": {
   "display_name": "Python 3.9.2 64-bit",
   "language": "python",
   "name": "python3"
  },
  "language_info": {
   "codemirror_mode": {
    "name": "ipython",
    "version": 3
   },
   "file_extension": ".py",
   "mimetype": "text/x-python",
   "name": "python",
   "nbconvert_exporter": "python",
   "pygments_lexer": "ipython3",
   "version": "3.9.2"
  },
  "orig_nbformat": 4
 },
 "nbformat": 4,
 "nbformat_minor": 2
}
