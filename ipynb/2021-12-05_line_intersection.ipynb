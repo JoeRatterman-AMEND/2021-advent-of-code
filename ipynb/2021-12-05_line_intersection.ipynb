{
 "cells": [
  {
   "cell_type": "code",
   "execution_count": 224,
   "metadata": {},
   "outputs": [
    {
     "data": {
      "text/plain": [
       "[['777,778', '777,676'],\n",
       " ['500,510', '378,510'],\n",
       " ['441,657', '441,638'],\n",
       " ['724,480', '724,778'],\n",
       " ['702,85', '44,85'],\n",
       " ['973,961', '28,16'],\n",
       " ['913,125', '483,125'],\n",
       " ['714,895', '870,739'],\n",
       " ['273,774', '273,795'],\n",
       " ['623,450', '623,616']]"
      ]
     },
     "execution_count": 224,
     "metadata": {},
     "output_type": "execute_result"
    }
   ],
   "source": [
    "# Load required packages\n",
    "from collections import Counter\n",
    "\n",
    "# Load input data\n",
    "file_path = \"C:\\\\Users\\\\JoeRatterman\\\\Documents\\\\GitHub\\\\2021-advent-of-code\\\\input-files\\\\2021-12-05_input.txt\"\n",
    "data_list = open(file_path, 'r').read().split('\\n')\n",
    "\n",
    "# Remove arrows from list\n",
    "data_list = list(map(lambda s: s.split(\" -> \"), data_list))\n",
    "data_list[0:10]"
   ]
  },
  {
   "cell_type": "code",
   "execution_count": 209,
   "metadata": {},
   "outputs": [],
   "source": [
    "point_a = []\n",
    "point_b = []\n",
    "for i in range(len(data_list)):\n",
    "    a = int(data_list[i][0].split(\",\")[0])\n",
    "    b = int(data_list[i][0].split(\",\")[1])\n",
    "    c = int(data_list[i][1].split(\",\")[0])\n",
    "    d = int(data_list[i][1].split(\",\")[1])\n",
    "\n",
    "    a_obj = (a,b)\n",
    "    b_obj = (c,d)\n",
    " \n",
    "    point_a.append(a_obj)\n",
    "    point_b.append(b_obj)"
   ]
  },
  {
   "cell_type": "code",
   "execution_count": 220,
   "metadata": {},
   "outputs": [],
   "source": [
    "vert_list = []\n",
    "horizontal_list = []\n",
    "for q in range(len(point_a)):\n",
    "    # Check if lines are horizontal or vertical\n",
    "    if point_a[q][0] == point_b[q][0] or point_a[q][1] == point_b[q][1]:\n",
    "\n",
    "        # If vertical line\n",
    "        if point_a[q][0] == point_b[q][0]:\n",
    "            \n",
    "            if point_a[q][1] > point_b[q][1]:\n",
    "\n",
    "                start = point_b[q][1]\n",
    "                end = point_a[q][1]\n",
    "\n",
    "            else:\n",
    "                \n",
    "                start = point_a[q][1]\n",
    "                end = point_b[q][1]\n",
    "\n",
    "            line_range = list(range(start, end + 1))\n",
    "            \n",
    "            # If line only is one unit long, skip to next iteration\n",
    "            if len(line_range) == 1:\n",
    "                continue\n",
    "\n",
    "            for i in line_range:\n",
    "\n",
    "                current_spot = (point_a[q][0], i)\n",
    "                vert_list.append(current_spot)\n",
    "\n",
    "\n",
    "         # If horizontal line\n",
    "        if point_a[q][1] == point_b[q][1]:\n",
    "            \n",
    "            if point_a[q][0] > point_b[q][0]:\n",
    "\n",
    "                start = point_b[q][0]\n",
    "                end = point_a[q][0]\n",
    "\n",
    "            else:\n",
    "                \n",
    "                start = point_a[q][0]\n",
    "                end = point_b[q][0]\n",
    "\n",
    "            line_range = list(range(start, end + 1))\n",
    "            \n",
    "            # If line only is one unit long, skip to next iteration\n",
    "            if len(line_range) == 1:\n",
    "                continue\n",
    "\n",
    "            for i in line_range:\n",
    "\n",
    "                current_spot = (i, point_a[q][1])\n",
    "                horizontal_list.append(current_spot)\n",
    "        \n",
    "                 "
   ]
  },
  {
   "cell_type": "code",
   "execution_count": 221,
   "metadata": {},
   "outputs": [],
   "source": [
    "diag_list = []\n",
    "for q in range(len(point_a)):\n",
    "    # Check if lines are horizontal or vertical\n",
    "    if point_a[q][0] != point_b[q][0] and point_a[q][1] != point_b[q][1]:\n",
    "\n",
    "         x_start = min(point_a[q][0], point_b[q][0])\n",
    "         x_end = max(point_a[q][0], point_b[q][0])\n",
    "\n",
    "         y_start = min(point_a[q][1], point_b[q][1])\n",
    "         y_end = max(point_a[q][1], point_b[q][1])\n",
    "\n",
    "         horz_range = list(range(x_start, x_end + 1))\n",
    "         vert_range = list(range(y_start, y_end + 1))\n",
    "         \n",
    "\n",
    "         if point_a[q][0] < point_b[q][0] and point_a[q][1] < point_b[q][1]:\n",
    "\n",
    "            for i,j in zip(horz_range, vert_range):\n",
    "            \n",
    "                diag_list.append((i, j))\n",
    "        \n",
    "         elif point_a[q][0] > point_b[q][0] and point_a[q][1] > point_b[q][1]:\n",
    "            for i,j in zip(reversed(horz_range), reversed(vert_range)):\n",
    "                \n",
    "                diag_list.append((i, j))\n",
    "            \n",
    "         elif point_a[q][0] > point_b[q][0]:\n",
    "             for i,j in zip(reversed(horz_range), vert_range):\n",
    "                \n",
    "                diag_list.append((i, j))\n",
    "\n",
    "         else:\n",
    "             for i,j in zip(horz_range, reversed(vert_range)):\n",
    "                \n",
    "                diag_list.append((i, j))\n",
    "\n",
    "\n",
    "   "
   ]
  },
  {
   "cell_type": "code",
   "execution_count": 222,
   "metadata": {},
   "outputs": [],
   "source": [
    "count_dict = Counter(horizontal_list + vert_list + diag_list)"
   ]
  },
  {
   "cell_type": "code",
   "execution_count": 223,
   "metadata": {},
   "outputs": [
    {
     "name": "stdout",
     "output_type": "stream",
     "text": [
      "18864\n"
     ]
    }
   ],
   "source": [
    "filtered_dict = {k:v for k,v in count_dict.items() if v > 1}\n",
    "print(len(filtered_dict))"
   ]
  },
  {
   "cell_type": "code",
   "execution_count": null,
   "metadata": {},
   "outputs": [],
   "source": []
  }
 ],
 "metadata": {
  "interpreter": {
   "hash": "2a3eb9d1762ced21ab592cb88b32ee1eb2a160e74d175aca6c3a2172cd8e5637"
  },
  "kernelspec": {
   "display_name": "Python 3.9.2 64-bit",
   "language": "python",
   "name": "python3"
  },
  "language_info": {
   "codemirror_mode": {
    "name": "ipython",
    "version": 3
   },
   "file_extension": ".py",
   "mimetype": "text/x-python",
   "name": "python",
   "nbconvert_exporter": "python",
   "pygments_lexer": "ipython3",
   "version": "3.9.2"
  },
  "orig_nbformat": 4
 },
 "nbformat": 4,
 "nbformat_minor": 2
}
