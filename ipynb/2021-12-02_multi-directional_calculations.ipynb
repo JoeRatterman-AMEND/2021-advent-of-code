{
 "cells": [
  {
   "cell_type": "code",
   "execution_count": 49,
   "metadata": {},
   "outputs": [
    {
     "data": {
      "text/plain": [
       "['forward 9',\n",
       " 'down 9',\n",
       " 'up 4',\n",
       " 'down 5',\n",
       " 'down 6',\n",
       " 'up 6',\n",
       " 'down 7',\n",
       " 'down 1',\n",
       " 'forward 6',\n",
       " 'down 4']"
      ]
     },
     "execution_count": 49,
     "metadata": {},
     "output_type": "execute_result"
    }
   ],
   "source": [
    "# Load input data\n",
    "file_path = \"C:\\\\Users\\\\JoeRatterman\\\\Documents\\\\GitHub\\\\2021-advent-of-code\\\\input-files\\\\2021-12-02_input.txt\"\n",
    "coord_list = open(file_path, 'r').read().split('\\n')\n",
    "\n",
    "coord_list[0:10]"
   ]
  },
  {
   "cell_type": "code",
   "execution_count": 51,
   "metadata": {},
   "outputs": [],
   "source": [
    "# Function to navigate multiple directions - Forward / Up / Down\n",
    "def travel_coordinates(list_obj):\n",
    "\n",
    "    # Initiate empty lists\n",
    "    forward_list = []\n",
    "    up_list = []\n",
    "    down_list = []\n",
    "\n",
    "    # Loop through each coordinate in the list\n",
    "    for i in range(len(list_obj)):\n",
    "\n",
    "        # Identify forward directions\n",
    "        if list_obj[i].__contains__(\"forward\"):\n",
    "            forward_list.append(int(list_obj[i].removeprefix(\"forward \")))\n",
    "\n",
    "        # Identify up directions\n",
    "        if list_obj[i].__contains__(\"up\"):\n",
    "            up_list.append(-int(list_obj[i].removeprefix(\"up \")))\n",
    "\n",
    "        # Identify down directions\n",
    "        if list_obj[i].__contains__(\"down\"):\n",
    "            down_list.append(int(list_obj[i].removeprefix(\"down \")))\n",
    "\n",
    "\n",
    "    return(sum(forward_list) * (sum(up_list) + sum(down_list)))"
   ]
  },
  {
   "cell_type": "code",
   "execution_count": 52,
   "metadata": {},
   "outputs": [
    {
     "data": {
      "text/plain": [
       "1499229"
      ]
     },
     "execution_count": 52,
     "metadata": {},
     "output_type": "execute_result"
    }
   ],
   "source": [
    "travel_coordinates(coord_list)"
   ]
  },
  {
   "cell_type": "code",
   "execution_count": 53,
   "metadata": {},
   "outputs": [],
   "source": [
    "# Function to navigate multiple directions with modified instructions - Forward / Up / Down\n",
    "def modified_travel_coord(list_obj):\n",
    "\n",
    "    # Initiate empty lists\n",
    "    forward_list = []\n",
    "    depth_list = []\n",
    "    down_dir = 0\n",
    "    up_dir = 0\n",
    "    aim = 0\n",
    "\n",
    "    # Loop through each coordinate in the list\n",
    "    for i in range(len(list_obj)):\n",
    "\n",
    "        # Identify up directions\n",
    "        if list_obj[i].__contains__(\"up\"):\n",
    "            up_dir = -int(list_obj[i].removeprefix(\"up \"))\n",
    "\n",
    "        # Identify down directions\n",
    "        if list_obj[i].__contains__(\"down\"):\n",
    "            down_dir = int(list_obj[i].removeprefix(\"down \"))\n",
    "\n",
    "        # Calculate the net aim\n",
    "        aim += (down_dir + up_dir)\n",
    "\n",
    "        # Identify forward directions\n",
    "        if list_obj[i].__contains__(\"forward\"):\n",
    "            move = int(list_obj[i].removeprefix(\"forward \"))\n",
    "\n",
    "            # Calculate movement adjustments\n",
    "            depth_list.append(move*aim)\n",
    "            forward_list.append(move)\n",
    "\n",
    "        # Reset up & down coordinates\n",
    "        up_dir = 0\n",
    "        down_dir = 0\n",
    "\n",
    "\n",
    "    return(sum(forward_list)*sum(depth_list))\n"
   ]
  },
  {
   "cell_type": "code",
   "execution_count": 54,
   "metadata": {},
   "outputs": [
    {
     "data": {
      "text/plain": [
       "1340836560"
      ]
     },
     "execution_count": 54,
     "metadata": {},
     "output_type": "execute_result"
    }
   ],
   "source": [
    "modified_travel_coord(coord_list)"
   ]
  }
 ],
 "metadata": {
  "interpreter": {
   "hash": "2a3eb9d1762ced21ab592cb88b32ee1eb2a160e74d175aca6c3a2172cd8e5637"
  },
  "kernelspec": {
   "display_name": "Python 3.9.2 64-bit",
   "language": "python",
   "name": "python3"
  },
  "language_info": {
   "codemirror_mode": {
    "name": "ipython",
    "version": 3
   },
   "file_extension": ".py",
   "mimetype": "text/x-python",
   "name": "python",
   "nbconvert_exporter": "python",
   "pygments_lexer": "ipython3",
   "version": "3.9.2"
  },
  "orig_nbformat": 4
 },
 "nbformat": 4,
 "nbformat_minor": 2
}
