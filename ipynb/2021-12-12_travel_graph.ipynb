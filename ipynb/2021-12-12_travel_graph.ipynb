{
 "cells": [
  {
   "cell_type": "code",
   "execution_count": 34,
   "metadata": {},
   "outputs": [
    {
     "data": {
      "text/plain": [
       "['xx-end',\n",
       " 'EG-xx',\n",
       " 'iy-FP',\n",
       " 'iy-qc',\n",
       " 'AB-end',\n",
       " 'yi-KG',\n",
       " 'KG-xx',\n",
       " 'start-LS',\n",
       " 'qe-FP',\n",
       " 'qc-AB']"
      ]
     },
     "execution_count": 34,
     "metadata": {},
     "output_type": "execute_result"
    }
   ],
   "source": [
    "# Load required packages\n",
    "import numpy as np\n",
    "from collections import Counter\n",
    "from itertools import islice, repeat\n",
    "from collections import defaultdict\n",
    "\n",
    "  \n",
    "# Load input data\n",
    "file_path = \"C:\\\\Users\\\\JoeRatterman\\\\Documents\\\\GitHub\\\\2021-advent-of-code\\\\input-files\\\\2021-12-12_input.txt\"\n",
    "\n",
    "data_list = open(file_path, 'r').read().split('\\n')\n",
    "data_list[0:10]\n"
   ]
  },
  {
   "cell_type": "code",
   "execution_count": 35,
   "metadata": {},
   "outputs": [],
   "source": [
    "# Function to build the graph\n",
    "def build_graph(list_obj):\n",
    "\n",
    "    # Define all possible paths\n",
    "    edges = []\n",
    "    for i in range(len(list_obj)):\n",
    "        edges.append(list_obj[i].split(\"-\"))\n",
    "\n",
    "    # Generate a dictionary\n",
    "    graph = defaultdict(list)\n",
    "\t\n",
    "    # Loop to iterate over every\n",
    "    # edge of the graph\n",
    "    for edge in edges:\n",
    "        a, b = edge[0], edge[1]\n",
    "\t\t\n",
    "\t\t# Creating the graph\n",
    "\t\t# as adjacency list\n",
    "        graph[a].append(b)\n",
    "        graph[b].append(a)\n",
    "\n",
    "    return(graph)"
   ]
  },
  {
   "cell_type": "code",
   "execution_count": 36,
   "metadata": {},
   "outputs": [],
   "source": [
    "# Recursive function to find all paths for graph \n",
    "def find_all_paths(graph, start, end, path=[]):\n",
    "        path = path + [start]\n",
    "        if start == end:\n",
    "            return [path]\n",
    "        if start not in graph:\n",
    "            return []\n",
    "        paths = []\n",
    "        for node in graph[start]:\n",
    "            if node not in path or str.isupper(node): # Can travel back accross capital lettee caves\n",
    "                newpaths = find_all_paths(graph, node, end, path)\n",
    "                for newpath in newpaths:\n",
    "                    paths.append(newpath)\n",
    "        return paths     "
   ]
  },
  {
   "cell_type": "code",
   "execution_count": 37,
   "metadata": {},
   "outputs": [
    {
     "data": {
      "text/plain": [
       "defaultdict(list,\n",
       "            {'xx': ['end', 'EG', 'KG', 'AB', 'FP'],\n",
       "             'end': ['xx', 'AB', 'KG'],\n",
       "             'EG': ['xx'],\n",
       "             'iy': ['FP', 'qc', 'AB', 'LS', 'KG'],\n",
       "             'FP': ['iy', 'qe', 'start', 'xx', 'yi'],\n",
       "             'qc': ['iy', 'AB', 'KG', 'LS'],\n",
       "             'AB': ['end', 'qc', 'iy', 'xx'],\n",
       "             'yi': ['KG', 'start', 'LS', 'FP'],\n",
       "             'KG': ['yi', 'xx', 'end', 'iy', 'qc'],\n",
       "             'start': ['LS', 'yi', 'FP'],\n",
       "             'LS': ['start', 'iy', 'yi', 'qc'],\n",
       "             'qe': ['FP']})"
      ]
     },
     "execution_count": 37,
     "metadata": {},
     "output_type": "execute_result"
    }
   ],
   "source": [
    "path_graph = build_graph(data_list)\n",
    "path_graph"
   ]
  },
  {
   "cell_type": "code",
   "execution_count": 38,
   "metadata": {},
   "outputs": [
    {
     "name": "stdout",
     "output_type": "stream",
     "text": [
      "4378\n"
     ]
    }
   ],
   "source": [
    "possible_paths = find_all_paths(path_graph, 'start', 'end')\n",
    "print(len(possible_paths))\n"
   ]
  },
  {
   "cell_type": "code",
   "execution_count": 39,
   "metadata": {},
   "outputs": [],
   "source": [
    "# Recursive function to find all paths for graph \n",
    "def find_all_paths_modified(graph, start, end, path=[], node_count = 1):\n",
    "\n",
    "        path = path + [start]\n",
    "        if start == end:\n",
    "            return [path]\n",
    "        if start not in graph:\n",
    "            return []\n",
    "\n",
    "        paths = []\n",
    "        for node in graph[start]:\n",
    "            if node not in path or str.isupper(node) or not 2 in Counter(list(filter(lambda i: str.islower(i), path))).values()  : # Can travel back accross capital lettee caves or can go to one small cave twice\n",
    "             \n",
    "                newpaths = find_all_paths_modified(graph, node, end, path)\n",
    "                for newpath in newpaths:\n",
    "                    paths.append(newpath)\n",
    "                    \n",
    "\n",
    "        return paths     "
   ]
  },
  {
   "cell_type": "code",
   "execution_count": 41,
   "metadata": {},
   "outputs": [
    {
     "name": "stdout",
     "output_type": "stream",
     "text": [
      "161429\n",
      "133621\n"
     ]
    }
   ],
   "source": [
    "# Check new possible paths\n",
    "possible_paths = find_all_paths_modified(path_graph, 'start', 'end')\n",
    "print(len(possible_paths))\n",
    "\n",
    "# Check for routes that go to start or end more than once to remove\n",
    "index_list = []\n",
    "for i in range(len(possible_paths)):\n",
    "    \n",
    "    if possible_paths[i].count('start') == 2 or possible_paths[i].count('end') == 2:\n",
    "        \n",
    "        index_list.append(i)\n",
    "\n",
    "# Calculate final possible paths\n",
    "print(len(possible_paths) - len(index_list))"
   ]
  }
 ],
 "metadata": {
  "interpreter": {
   "hash": "2a3eb9d1762ced21ab592cb88b32ee1eb2a160e74d175aca6c3a2172cd8e5637"
  },
  "kernelspec": {
   "display_name": "Python 3.9.2 64-bit",
   "language": "python",
   "name": "python3"
  },
  "language_info": {
   "codemirror_mode": {
    "name": "ipython",
    "version": 3
   },
   "file_extension": ".py",
   "mimetype": "text/x-python",
   "name": "python",
   "nbconvert_exporter": "python",
   "pygments_lexer": "ipython3",
   "version": "3.9.2"
  },
  "orig_nbformat": 4
 },
 "nbformat": 4,
 "nbformat_minor": 2
}
