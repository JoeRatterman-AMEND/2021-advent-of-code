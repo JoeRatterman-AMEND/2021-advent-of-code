{
 "cells": [
  {
   "cell_type": "code",
   "execution_count": 160,
   "metadata": {},
   "outputs": [
    {
     "data": {
      "text/plain": [
       "['6788383436',\n",
       " '5526827441',\n",
       " '4582435866',\n",
       " '5152547273',\n",
       " '3746433621',\n",
       " '2465145365',\n",
       " '6324887128',\n",
       " '8537558745',\n",
       " '4718427562',\n",
       " '2283324746']"
      ]
     },
     "execution_count": 160,
     "metadata": {},
     "output_type": "execute_result"
    }
   ],
   "source": [
    "# Load required packages\n",
    "import numpy as np\n",
    "from collections import Counter\n",
    "\n",
    "# Load input data\n",
    "file_path = \"C:\\\\Users\\\\JoeRatterman\\\\Documents\\\\GitHub\\\\2021-advent-of-code\\\\input-files\\\\2021-12-11_input.txt\"\n",
    "data_list = open(file_path, 'r').read().split('\\n')\n",
    "\n",
    "data_list"
   ]
  },
  {
   "cell_type": "code",
   "execution_count": 161,
   "metadata": {},
   "outputs": [],
   "source": [
    "# Function to split string\n",
    "def str_split(word):\n",
    "    return list(word)\n",
    "\n",
    "# Define function to check if matrix index is valid\n",
    "def is_valid(array, index):    \n",
    "    row, column = index\n",
    "    return 0 <= row < len(array) and 0 <= column < len(array[row])\n",
    "\n",
    "# Define function to get index of touching spots\n",
    "def get_next(node, offset):\n",
    "    \"\"\"Find the next location based on an offset from the current location.\"\"\"\n",
    "    row, column = node\n",
    "    row_offset, column_offset = offset\n",
    "    return row + row_offset, column + column_offset\n",
    "\n",
    "# Neighboring points return\n",
    "def check_neighbors(array, neighbor_list, test_set):\n",
    "    next_locs = []\n",
    "    for n in neighbor_list:\n",
    "\n",
    "        next_spot = get_next(test_set, n)\n",
    "\n",
    "        if is_valid(array, next_spot):\n",
    "\n",
    "            next_locs.append(next_spot)\n",
    "            \n",
    "    return(next_locs)\n",
    "\n",
    "# Add 1 to every matrix value\n",
    "def add_matrix_val(matrix_input):\n",
    "\n",
    "    adj_matrix = matrix_input\n",
    "\n",
    "    for i in range(len(adj_matrix)):\n",
    "        for j in range(len(adj_matrix)):\n",
    "\n",
    "            adj_matrix[i][j] = adj_matrix[i][j] + 1\n",
    "\n",
    "    return(adj_matrix)"
   ]
  },
  {
   "cell_type": "code",
   "execution_count": 171,
   "metadata": {},
   "outputs": [],
   "source": [
    "# Find coordinates with values over 10\n",
    "def find_coord(input_matrix):\n",
    "\n",
    "    result = np.where((input_matrix >= 10))\n",
    "\n",
    "    listOfCoordinates= list(zip(result[0], result[1]))\n",
    "    coord_list = []\n",
    "    for cord in listOfCoordinates:\n",
    "        coord_list.append(cord)\n",
    "    \n",
    "    return(coord_list)\n",
    "\n",
    "# Find values to reset to 0\n",
    "def find_reset(input_matrix):\n",
    "\n",
    "    result = np.where((input_matrix >= 10))\n",
    "\n",
    "    listOfCoordinates= list(zip(result[0], result[1]))\n",
    "    coord_list = []\n",
    "    for cord in listOfCoordinates:\n",
    "        coord_list.append(cord)\n",
    "    \n",
    "    return(coord_list)\n",
    "\n",
    "# Find values that are 0s\n",
    "def find_zero(input_matrix):\n",
    "\n",
    "    result = np.where((input_matrix == 0))\n",
    "\n",
    "    listOfCoordinates= list(zip(result[0], result[1]))\n",
    "    coord_list = []\n",
    "    for cord in listOfCoordinates:\n",
    "        coord_list.append(cord)\n",
    "    \n",
    "    return(coord_list)"
   ]
  },
  {
   "cell_type": "code",
   "execution_count": 172,
   "metadata": {},
   "outputs": [
    {
     "data": {
      "text/plain": [
       "((0, 1), (0, -1), (1, 0), (-1, 0), (1, 1), (-1, 1), (1, -1), (-1, -1))"
      ]
     },
     "execution_count": 172,
     "metadata": {},
     "output_type": "execute_result"
    }
   ],
   "source": [
    " # Locations to check for each spot\n",
    "pair_check = ((0,1), (0,-1), (1,0), (-1, 0), (1, 1), (-1, 1), (1, -1), (-1, -1))\n",
    "pair_check"
   ]
  },
  {
   "cell_type": "code",
   "execution_count": 168,
   "metadata": {},
   "outputs": [
    {
     "data": {
      "text/plain": [
       "array([[6, 7, 8, 8, 3, 8, 3, 4, 3, 6],\n",
       "       [5, 5, 2, 6, 8, 2, 7, 4, 4, 1],\n",
       "       [4, 5, 8, 2, 4, 3, 5, 8, 6, 6],\n",
       "       [5, 1, 5, 2, 5, 4, 7, 2, 7, 3],\n",
       "       [3, 7, 4, 6, 4, 3, 3, 6, 2, 1],\n",
       "       [2, 4, 6, 5, 1, 4, 5, 3, 6, 5],\n",
       "       [6, 3, 2, 4, 8, 8, 7, 1, 2, 8],\n",
       "       [8, 5, 3, 7, 5, 5, 8, 7, 4, 5],\n",
       "       [4, 7, 1, 8, 4, 2, 7, 5, 6, 2],\n",
       "       [2, 2, 8, 3, 3, 2, 4, 7, 4, 6]])"
      ]
     },
     "execution_count": 168,
     "metadata": {},
     "output_type": "execute_result"
    }
   ],
   "source": [
    "# Convert data input to matrix\n",
    "for i in range(len(data_list)):\n",
    "\n",
    "    if i == 0:\n",
    "        input_matrix = np.array(str_split(data_list[i]))\n",
    "    else:\n",
    "        input_matrix = np.vstack([str_split(data_list[i]), input_matrix])\n",
    "\n",
    "# Flip matrix back to correct order\n",
    "input_matrix = np.flipud(input_matrix)\n",
    "input_matrix = [list(map(int, i)) for i in input_matrix]\n",
    "\n",
    "input_matrix = np.asarray(input_matrix)\n",
    "input_matrix"
   ]
  },
  {
   "cell_type": "code",
   "execution_count": 169,
   "metadata": {},
   "outputs": [
    {
     "name": "stdout",
     "output_type": "stream",
     "text": [
      "Simulation over at iteration:  351\n"
     ]
    }
   ],
   "source": [
    "flashes = []\n",
    "for step in range(0,1000):\n",
    "\n",
    "    # Add step to input matrix\n",
    "    input_matrix = add_matrix_val(input_matrix)\n",
    "    \n",
    "    # Find coordinates that flash\n",
    "    initial_flash = find_coord(input_matrix)\n",
    "\n",
    "    updated_list = []\n",
    "    # if len(initial_flash) > 0:\n",
    "    #     updated_list.append(initial_flash)\n",
    "        \n",
    "   \n",
    "    while len(initial_flash) > 0:\n",
    "\n",
    "        # Get neighbors of all flashes\n",
    "        neighb_list = []\n",
    "        for i in range(len(initial_flash)):\n",
    "            input_matrix[initial_flash[i]] += 1\n",
    "            new_index = check_neighbors(input_matrix, pair_check, initial_flash[i])\n",
    "            neighb_list.append(new_index)\n",
    "\n",
    "        # Convert neighbor list of list to single list\n",
    "        single_neighb_list = []\n",
    "        for q in range(len(neighb_list)):\n",
    "            for m in range(len(neighb_list[q])):\n",
    "                single_neighb_list.append(neighb_list[q][m])\n",
    "\n",
    "        # Group the neighbor coordinates and get count to increase by\n",
    "        num_increase = Counter(single_neighb_list)\n",
    "\n",
    "        # Increase neighbor coordinate values\n",
    "        for z in num_increase.keys():\n",
    "            input_matrix[z] += num_increase[z]\n",
    "\n",
    "\n",
    "        # Add flash coordinates to cumulative list\n",
    "        updated_list.append(initial_flash)\n",
    "        \n",
    "        # Check for flashes after updating values for current step\n",
    "        initial_flash = find_coord(input_matrix)\n",
    "        \n",
    "        # If there are no new flashes jump to next step\n",
    "        if len(initial_flash) == 0:\n",
    "            break\n",
    "\n",
    "        # Convert flash list of list to single list for filtering\n",
    "        single_updated = []\n",
    "        for q in range(len(updated_list)):\n",
    "            for m in range(len(updated_list[q])):\n",
    "                single_updated.append(updated_list[q][m])\n",
    "\n",
    "        # Remove coordinates that have already passed 10 in current step\n",
    "        remove_list = []\n",
    "        for i in initial_flash:\n",
    "            if i in single_updated:\n",
    "                remove_list.append(i)\n",
    "\n",
    "        for rem in remove_list:\n",
    "            if initial_flash != None:\n",
    "                initial_flash.remove(rem)\n",
    "            else:\n",
    "                break\n",
    "        \n",
    "        if initial_flash == None:\n",
    "            break\n",
    "    \n",
    "    # Reset values over 10 to 0\n",
    "    resets = find_reset(input_matrix)\n",
    "\n",
    "    for h in resets:\n",
    "        flashes.append(h)\n",
    "        input_matrix[h] = 0\n",
    "\n",
    "    # Calculate the number of steps to get to all 100 flashes\n",
    "    if len(find_zero(input_matrix)) == 100:\n",
    "        print(\"Simulation over at iteration: \", step + 1)\n",
    "        break\n",
    "\n"
   ]
  },
  {
   "cell_type": "code",
   "execution_count": 170,
   "metadata": {},
   "outputs": [
    {
     "data": {
      "text/plain": [
       "5530"
      ]
     },
     "execution_count": 170,
     "metadata": {},
     "output_type": "execute_result"
    }
   ],
   "source": [
    "len(flashes)"
   ]
  }
 ],
 "metadata": {
  "interpreter": {
   "hash": "2a3eb9d1762ced21ab592cb88b32ee1eb2a160e74d175aca6c3a2172cd8e5637"
  },
  "kernelspec": {
   "display_name": "Python 3.9.2 64-bit",
   "language": "python",
   "name": "python3"
  },
  "language_info": {
   "codemirror_mode": {
    "name": "ipython",
    "version": 3
   },
   "file_extension": ".py",
   "mimetype": "text/x-python",
   "name": "python",
   "nbconvert_exporter": "python",
   "pygments_lexer": "ipython3",
   "version": "3.9.2"
  },
  "orig_nbformat": 4
 },
 "nbformat": 4,
 "nbformat_minor": 2
}
