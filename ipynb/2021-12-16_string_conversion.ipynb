{
 "cells": [
  {
   "cell_type": "code",
   "execution_count": 272,
   "metadata": {},
   "outputs": [
    {
     "data": {
      "text/plain": [
       "'9C0141080250320F1802104A08'"
      ]
     },
     "execution_count": 272,
     "metadata": {},
     "output_type": "execute_result"
    }
   ],
   "source": [
    "# Loaded required packages\n",
    "from collections import Counter\n",
    "import numpy as np\n",
    "from collections import defaultdict, deque\n",
    "\n",
    "# Load input data\n",
    "file_path = \"C:\\\\Users\\\\JoeRatterman\\\\Documents\\\\GitHub\\\\2021-advent-of-code\\\\input-files\\\\2021-12-16_input.txt\"\n",
    "data_list = open(file_path, 'r').read()\n",
    "\n",
    "data_list"
   ]
  },
  {
   "cell_type": "code",
   "execution_count": 273,
   "metadata": {},
   "outputs": [],
   "source": [
    "# Dictionary of conversion keys\n",
    "conv_dict = {\n",
    "\n",
    "    '0': '0000',\n",
    "    '1': '0001',\n",
    "    '2': '0010',\n",
    "    '3': '0011',\n",
    "    '4': '0100',\n",
    "    '5': '0101',\n",
    "    '6': '0110',\n",
    "    '7': '0111',\n",
    "    '8': '1000',\n",
    "    '9': '1001',\n",
    "    'A': '1010',\n",
    "    'B': '1011',\n",
    "    'C': '1100',\n",
    "    'D': '1101',\n",
    "    'E': '1110',\n",
    "    'F': '1111'\n",
    "\n",
    "}"
   ]
  },
  {
   "cell_type": "code",
   "execution_count": 274,
   "metadata": {},
   "outputs": [],
   "source": [
    "# Function to split string\n",
    "def str_split(word):\n",
    "    return list(word)\n",
    "\n",
    "# Replace list element with dictionary value\n",
    "def list_replace(list, dictionary):\n",
    "    return([dictionary.get(item, item) for item in list])\n",
    "\n",
    "# Function to convert  \n",
    "def listToString(s): \n",
    "    \n",
    "    # initialize an empty string\n",
    "    str1 = \"\" \n",
    "    \n",
    "    # traverse in the string  \n",
    "    for ele in s: \n",
    "        str1 += ele  \n",
    "    \n",
    "    # return string  \n",
    "    return(str1) \n",
    "\n",
    "# Function to split string every n characters\n",
    "def split_string_n(string, n):\n",
    "    return([string[i:i+n] for i in range(0, len(string), n)])"
   ]
  },
  {
   "cell_type": "code",
   "execution_count": 275,
   "metadata": {},
   "outputs": [],
   "source": [
    "# Function to convert hex code to binary\n",
    "def hex_to_bin(string):\n",
    "    return(listToString(list_replace(str_split(data_list), conv_dict)))\n",
    "\n",
    "# Function to get version from string\n",
    "def get_version(string):\n",
    "    return(int(string[0:3], 2))\n",
    "\n",
    "# Function to get id from string\n",
    "def get_id(string):\n",
    "    return(int(string[3:6], 2))\n",
    "\n",
    "# Function to return len type\n",
    "def check_len_type(string):\n",
    "    return(string[6:7])\n",
    "\n",
    "# Function if len type = 15\n",
    "def bit_rule_ret(string, bit_rule_calc):\n",
    "    return(int(string[7:(7 + bit_rule_calc)], 2))\n",
    "\n",
    "def get_rem_str(string, pk_id):\n",
    "\n",
    "    if pk_id == 4:\n",
    "        return(string[6:len(string)])\n",
    "    else:\n",
    "        return(string[7:len(string)])"
   ]
  },
  {
   "cell_type": "code",
   "execution_count": 276,
   "metadata": {},
   "outputs": [],
   "source": [
    "# Function to calculate literal values for version 4 packets\n",
    "def calc_literal_value(string):\n",
    "\n",
    "    if len(string) == 5:\n",
    "        return(int(string[1:], 2))\n",
    "        \n",
    "    else:\n",
    "\n",
    "        lit_val_str = \"\"\n",
    "\n",
    "        # Split up the remaining string to bit portions\n",
    "        lit_val_list = split_string_n(string, 5)\n",
    "\n",
    "        for i in range(len(lit_val_list)):\n",
    "            \n",
    "            lit_val_str += lit_val_list[i][1:]\n",
    "\n",
    "        if lit_val_str != \"\":\n",
    "            return(int(lit_val_str, 2))\n"
   ]
  },
  {
   "cell_type": "code",
   "execution_count": 277,
   "metadata": {},
   "outputs": [],
   "source": [
    "# Function to return literal values from remaining string - used at sub-packet stage\n",
    "def pk_vers_parse(test_string):\n",
    "\n",
    "    result_dict = {}\n",
    "\n",
    "    pk_ver = get_version(test_string)\n",
    "    pk_id = get_id(test_string)\n",
    "    \n",
    "\n",
    "    if get_version(test_string) >= 0:\n",
    "\n",
    "        vals_to_parse = split_string_n(test_string[6:], 5)\n",
    "        \n",
    "        packet_end = [x for x in vals_to_parse if x.startswith(\"0\")]\n",
    "        \n",
    "        end_index = vals_to_parse.index(packet_end[0]) + 1\n",
    "       \n",
    "        literal_val = calc_literal_value(''.join(vals_to_parse[0:end_index]))\n",
    "       \n",
    "        remove_string = test_string[0:6] + ''.join(vals_to_parse[0:end_index])\n",
    "\n",
    "    \n",
    "\n",
    "        return([pk_id, pk_ver, literal_val, remove_string])\n",
    "\n",
    "    else:\n",
    "        return([\"\", \"\", \"\", \"\"])\n"
   ]
  },
  {
   "cell_type": "code",
   "execution_count": 278,
   "metadata": {},
   "outputs": [],
   "source": [
    "# Loop through string to return all literal values remaining\n",
    "def parse_literal_values(bit_str):\n",
    "\n",
    "    string_to_parse = bit_str\n",
    "    result_list = []\n",
    "\n",
    "    while len(string_to_parse) >= 6:\n",
    "        \n",
    "        val = pk_vers_parse(string_to_parse)\n",
    "        \n",
    "        result_list.append(val)\n",
    "        print(string_to_parse)\n",
    "        string_to_parse = str.removeprefix(string_to_parse, val[3])\n",
    "        \n",
    "\n",
    "    return(result_list)\n"
   ]
  },
  {
   "cell_type": "code",
   "execution_count": 279,
   "metadata": {},
   "outputs": [],
   "source": [
    "def get_bit_base(string):\n",
    "\n",
    "    pk_vers = get_version(string)\n",
    "    pk_id = get_id(string)\n",
    "    len_type = check_len_type(string)\n",
    "    bit_rule = 15 if len_type == '0' else 11\n",
    "    sub_type = bit_rule_ret(string, bit_rule_calc= bit_rule)\n",
    "\n",
    "    return([pk_vers, pk_id, len_type, bit_rule, sub_type])"
   ]
  },
  {
   "cell_type": "code",
   "execution_count": 280,
   "metadata": {},
   "outputs": [
    {
     "data": {
      "text/plain": [
       "'1001110000'"
      ]
     },
     "execution_count": 280,
     "metadata": {},
     "output_type": "execute_result"
    }
   ],
   "source": [
    "# Convert hexadecimal to bit string\n",
    "bit_string = hex_to_bin(data_list)\n",
    "bit_string[0:10]"
   ]
  },
  {
   "cell_type": "code",
   "execution_count": 281,
   "metadata": {},
   "outputs": [
    {
     "ename": "ValueError",
     "evalue": "invalid literal for int() with base 2: ''",
     "output_type": "error",
     "traceback": [
      "\u001b[1;31m---------------------------------------------------------------------------\u001b[0m",
      "\u001b[1;31mValueError\u001b[0m                                Traceback (most recent call last)",
      "\u001b[1;32m<ipython-input-281-4d877f6566c5>\u001b[0m in \u001b[0;36m<module>\u001b[1;34m\u001b[0m\n\u001b[0;32m     28\u001b[0m             \u001b[0mpacket_substring\u001b[0m \u001b[1;33m=\u001b[0m \u001b[0mstr\u001b[0m\u001b[1;33m.\u001b[0m\u001b[0mremoveprefix\u001b[0m\u001b[1;33m(\u001b[0m\u001b[0mpacket_substring\u001b[0m\u001b[1;33m,\u001b[0m \u001b[0mpk_vers_parse\u001b[0m\u001b[1;33m(\u001b[0m\u001b[0mpacket_substring\u001b[0m\u001b[1;33m)\u001b[0m\u001b[1;33m[\u001b[0m\u001b[1;36m3\u001b[0m\u001b[1;33m]\u001b[0m\u001b[1;33m)\u001b[0m\u001b[1;33m\u001b[0m\u001b[1;33m\u001b[0m\u001b[0m\n\u001b[0;32m     29\u001b[0m \u001b[1;33m\u001b[0m\u001b[0m\n\u001b[1;32m---> 30\u001b[1;33m             \u001b[0mbit_list\u001b[0m \u001b[1;33m=\u001b[0m \u001b[0mget_bit_base\u001b[0m\u001b[1;33m(\u001b[0m\u001b[0mpacket_substring\u001b[0m\u001b[1;33m)\u001b[0m\u001b[1;33m\u001b[0m\u001b[1;33m\u001b[0m\u001b[0m\n\u001b[0m\u001b[0;32m     31\u001b[0m             \u001b[0mbit_string\u001b[0m \u001b[1;33m=\u001b[0m \u001b[0mpacket_substring\u001b[0m\u001b[1;33m\u001b[0m\u001b[1;33m\u001b[0m\u001b[0m\n\u001b[0;32m     32\u001b[0m             \u001b[0mstring_dict_test\u001b[0m\u001b[1;33m[\u001b[0m\u001b[0mstr\u001b[0m\u001b[1;33m(\u001b[0m\u001b[0mcntr\u001b[0m\u001b[1;33m)\u001b[0m \u001b[1;33m+\u001b[0m \u001b[1;34m\"_\"\u001b[0m \u001b[1;33m+\u001b[0m \u001b[0mpacket_substring\u001b[0m\u001b[1;33m]\u001b[0m \u001b[1;33m=\u001b[0m \u001b[0mbit_list\u001b[0m\u001b[1;33m\u001b[0m\u001b[1;33m\u001b[0m\u001b[0m\n",
      "\u001b[1;32m<ipython-input-279-154cb971305e>\u001b[0m in \u001b[0;36mget_bit_base\u001b[1;34m(string)\u001b[0m\n\u001b[0;32m      2\u001b[0m \u001b[1;33m\u001b[0m\u001b[0m\n\u001b[0;32m      3\u001b[0m     \u001b[0mpk_vers\u001b[0m \u001b[1;33m=\u001b[0m \u001b[0mget_version\u001b[0m\u001b[1;33m(\u001b[0m\u001b[0mstring\u001b[0m\u001b[1;33m)\u001b[0m\u001b[1;33m\u001b[0m\u001b[1;33m\u001b[0m\u001b[0m\n\u001b[1;32m----> 4\u001b[1;33m     \u001b[0mpk_id\u001b[0m \u001b[1;33m=\u001b[0m \u001b[0mget_id\u001b[0m\u001b[1;33m(\u001b[0m\u001b[0mstring\u001b[0m\u001b[1;33m)\u001b[0m\u001b[1;33m\u001b[0m\u001b[1;33m\u001b[0m\u001b[0m\n\u001b[0m\u001b[0;32m      5\u001b[0m     \u001b[0mlen_type\u001b[0m \u001b[1;33m=\u001b[0m \u001b[0mcheck_len_type\u001b[0m\u001b[1;33m(\u001b[0m\u001b[0mstring\u001b[0m\u001b[1;33m)\u001b[0m\u001b[1;33m\u001b[0m\u001b[1;33m\u001b[0m\u001b[0m\n\u001b[0;32m      6\u001b[0m     \u001b[0mbit_rule\u001b[0m \u001b[1;33m=\u001b[0m \u001b[1;36m15\u001b[0m \u001b[1;32mif\u001b[0m \u001b[0mlen_type\u001b[0m \u001b[1;33m==\u001b[0m \u001b[1;34m'0'\u001b[0m \u001b[1;32melse\u001b[0m \u001b[1;36m11\u001b[0m\u001b[1;33m\u001b[0m\u001b[1;33m\u001b[0m\u001b[0m\n",
      "\u001b[1;32m<ipython-input-275-6da363ac632e>\u001b[0m in \u001b[0;36mget_id\u001b[1;34m(string)\u001b[0m\n\u001b[0;32m      9\u001b[0m \u001b[1;31m# Function to get id from string\u001b[0m\u001b[1;33m\u001b[0m\u001b[1;33m\u001b[0m\u001b[1;33m\u001b[0m\u001b[0m\n\u001b[0;32m     10\u001b[0m \u001b[1;32mdef\u001b[0m \u001b[0mget_id\u001b[0m\u001b[1;33m(\u001b[0m\u001b[0mstring\u001b[0m\u001b[1;33m)\u001b[0m\u001b[1;33m:\u001b[0m\u001b[1;33m\u001b[0m\u001b[1;33m\u001b[0m\u001b[0m\n\u001b[1;32m---> 11\u001b[1;33m     \u001b[1;32mreturn\u001b[0m\u001b[1;33m(\u001b[0m\u001b[0mint\u001b[0m\u001b[1;33m(\u001b[0m\u001b[0mstring\u001b[0m\u001b[1;33m[\u001b[0m\u001b[1;36m3\u001b[0m\u001b[1;33m:\u001b[0m\u001b[1;36m6\u001b[0m\u001b[1;33m]\u001b[0m\u001b[1;33m,\u001b[0m \u001b[1;36m2\u001b[0m\u001b[1;33m)\u001b[0m\u001b[1;33m)\u001b[0m\u001b[1;33m\u001b[0m\u001b[1;33m\u001b[0m\u001b[0m\n\u001b[0m\u001b[0;32m     12\u001b[0m \u001b[1;33m\u001b[0m\u001b[0m\n\u001b[0;32m     13\u001b[0m \u001b[1;31m# Function to return len type\u001b[0m\u001b[1;33m\u001b[0m\u001b[1;33m\u001b[0m\u001b[1;33m\u001b[0m\u001b[0m\n",
      "\u001b[1;31mValueError\u001b[0m: invalid literal for int() with base 2: ''"
     ]
    }
   ],
   "source": [
    "# Loop through bit string\n",
    "string_dict_test = {}\n",
    "bit_list = get_bit_base(bit_string)\n",
    "string_dict_test[bit_string] = bit_list\n",
    "\n",
    "\n",
    "while len(bit_string) > 6:\n",
    "\n",
    "    packet_substring = get_rem_str(bit_string, bit_list[1])[bit_list[3]:]\n",
    "    \n",
    "\n",
    "    bit_list = get_bit_base(packet_substring)\n",
    "\n",
    "    \n",
    "\n",
    "    if bit_list[1] != 4:\n",
    "\n",
    "        bit_string = packet_substring\n",
    "        string_dict_test[packet_substring] = bit_list\n",
    "\n",
    "    else:\n",
    "        cntr = 0\n",
    "        while bit_list[1] == 4:\n",
    "\n",
    "            if cntr == 0:\n",
    "                string_dict_test[str(cntr) + \"_\" + packet_substring] = bit_list\n",
    "\n",
    "            packet_substring = str.removeprefix(packet_substring, pk_vers_parse(packet_substring)[3])\n",
    "\n",
    "            bit_list = get_bit_base(packet_substring)\n",
    "            bit_string = packet_substring\n",
    "            string_dict_test[str(cntr) + \"_\" + packet_substring] = bit_list\n",
    "            cntr += 1\n",
    "          \n",
    "    "
   ]
  },
  {
   "cell_type": "code",
   "execution_count": null,
   "metadata": {},
   "outputs": [
    {
     "name": "stdout",
     "output_type": "stream",
     "text": [
      "889\n"
     ]
    }
   ],
   "source": [
    "value = 0\n",
    "for i in range(len(string_dict_test.values())):\n",
    "\n",
    "    value += list(string_dict_test.values())[i][0]\n",
    "\n",
    "\n",
    "print(value)"
   ]
  },
  {
   "cell_type": "code",
   "execution_count": 282,
   "metadata": {},
   "outputs": [],
   "source": [
    "rev_dict = {}\n",
    "for k in list(reversed(string_dict_test.keys())):\n",
    "    \n",
    "    rev_dict[k] = string_dict_test[k]\n",
    "\n",
    "#print(rev_dict)"
   ]
  },
  {
   "cell_type": "code",
   "execution_count": 283,
   "metadata": {},
   "outputs": [
    {
     "name": "stdout",
     "output_type": "stream",
     "text": [
      "0_0101000001000 [2, 4, '0', 15, 8]\n",
      "{0: 2}\n",
      "0_000100000100101000001000 [0, 4, '0', 15, 4738]\n",
      "{0: 2, 1: 2}\n",
      "1_110001100000000010000100000100101000001000 [6, 1, '1', 11, 2]\n",
      "{0: 2, 1: 2, 2: 4}\n",
      "0_10010000011110001100000000010000100000100101000001000 [4, 4, '0', 15, 7728]\n",
      "{0: 2, 1: 2, 2: 4, 3: 3}\n",
      "0_0101000000110010000011110001100000000010000100000100101000001000 [2, 4, '0', 15, 3203]\n",
      "{0: 2, 1: 2, 2: 4, 3: 3, 4: 1}\n",
      "0100001000000000100101000000110010000011110001100000000010000100000100101000001000 [2, 0, '1', 11, 2]\n",
      "{0: 2, 1: 2, 2: 4, 3: 3, 4: 1, 5: 4}\n",
      "10011100000000010100000100001000000000100101000000110010000011110001100000000010000100000100101000001000 [4, 7, '0', 15, 80]\n",
      "{0: 2, 1: 2, 2: 4, 3: 3, 4: 1, 5: 4, 6: 0}\n",
      "{0: 2, 1: 2, 2: 4, 3: 3, 4: 1, 5: 4, 6: 0}\n"
     ]
    }
   ],
   "source": [
    "cntr = 0\n",
    "sub_pack_dict = {}\n",
    "len_list = []\n",
    "for k,v in rev_dict.items():\n",
    "    \n",
    "    \n",
    "\n",
    "    if str(k).find(\"_\") > 0:\n",
    "        string_port = str(k).split(\"_\")[1]\n",
    "    else:\n",
    "        string_port = k\n",
    "    len_str_port = len(string_port)\n",
    "    len_list.append(len_str_port)\n",
    "\n",
    "\n",
    "    if v[1] == 4:\n",
    "\n",
    "        sub_pack_dict[cntr] = pk_vers_parse(str(k).split(\"_\")[1])[2]\n",
    "\n",
    "    else:\n",
    "\n",
    "        if v[1] == 0:\n",
    "\n",
    "            sub_pack_val = sum(list(sub_pack_dict.values())[-num_look_back(v, v[4], len_list[0:-1]):len(list(sub_pack_dict.values()))])\n",
    "            #sub_pack_dict = {}\n",
    "            sub_pack_dict[cntr] = sub_pack_val\n",
    "\n",
    "        if v[1] == 1:\n",
    "\n",
    "            sub_pack_val = np.prod(list(sub_pack_dict.values())[-num_look_back(v, v[4], len_list[0:-1]):len(list(sub_pack_dict.values()))])\n",
    "            #sub_pack_dict = {}\n",
    "            sub_pack_dict[cntr] = sub_pack_val\n",
    "\n",
    "        if v[1] == 2:\n",
    "\n",
    "            sub_pack_val = min(list(sub_pack_dict.values())[-num_look_back(v, v[4], len_list[0:-1]):len(list(sub_pack_dict.values()))])\n",
    "            #sub_pack_dict = {}\n",
    "            sub_pack_dict[cntr] = sub_pack_val\n",
    "\n",
    "        if v[1] == 3:\n",
    "\n",
    "            sub_pack_val = max(list(sub_pack_dict.values())[-num_look_back(v, v[4], len_list[0:-1]):len(list(sub_pack_dict.values()))])\n",
    "            #sub_pack_dict = {}\n",
    "            sub_pack_dict[cntr] = sub_pack_val\n",
    "\n",
    "\n",
    "        if v[1] == 5:\n",
    "\n",
    "            if list(sub_pack_dict.values())[-2] > list(sub_pack_dict.values())[-1]:\n",
    "\n",
    "                sub_pack_val = 1\n",
    "            else:\n",
    "                sub_pack_val = 0\n",
    "\n",
    "            #sub_pack_dict = {}\n",
    "            sub_pack_dict[cntr] = sub_pack_val\n",
    "\n",
    "\n",
    "        if v[1] == 6:\n",
    "\n",
    "            if list(sub_pack_dict.values())[-2] < list(sub_pack_dict.values())[-1]:\n",
    "                \n",
    "                sub_pack_val = 1\n",
    "            else:\n",
    "                sub_pack_val = 0\n",
    "\n",
    "            #sub_pack_dict = {}\n",
    "            sub_pack_dict[cntr] = sub_pack_val\n",
    "\n",
    "\n",
    "        if v[1] == 7:\n",
    "\n",
    "            if list(sub_pack_dict.values())[-2] == list(sub_pack_dict.values())[-1]:\n",
    "                \n",
    "                sub_pack_val = 1\n",
    "            else:\n",
    "                sub_pack_val = 0\n",
    "\n",
    "            #sub_pack_dict = {}\n",
    "            sub_pack_dict[cntr] = sub_pack_val\n",
    "\n",
    "    print(k, v)\n",
    "    print(sub_pack_dict)\n",
    "\n",
    "\n",
    "\n",
    "    cntr += 1\n",
    "\n",
    "\n",
    "print(sub_pack_dict)\n",
    "        "
   ]
  },
  {
   "cell_type": "code",
   "execution_count": 285,
   "metadata": {},
   "outputs": [
    {
     "name": "stdout",
     "output_type": "stream",
     "text": [
      "[4, 7, '0', 15, 80]\n",
      "[13, 24, 42, 53, 64, 82, 104]\n",
      "[13, 24, 42, 53, 64, 82, 104]\n"
     ]
    },
    {
     "ename": "IndexError",
     "evalue": "list index out of range",
     "output_type": "error",
     "traceback": [
      "\u001b[1;31m---------------------------------------------------------------------------\u001b[0m",
      "\u001b[1;31mIndexError\u001b[0m                                Traceback (most recent call last)",
      "\u001b[1;32m<ipython-input-285-1dffeac7cd8e>\u001b[0m in \u001b[0;36m<module>\u001b[1;34m\u001b[0m\n\u001b[0;32m      2\u001b[0m \u001b[0mprint\u001b[0m\u001b[1;33m(\u001b[0m\u001b[0mlen_list\u001b[0m\u001b[1;33m)\u001b[0m\u001b[1;33m\u001b[0m\u001b[1;33m\u001b[0m\u001b[0m\n\u001b[0;32m      3\u001b[0m \u001b[0mprint\u001b[0m\u001b[1;33m(\u001b[0m\u001b[0mlen_list\u001b[0m\u001b[1;33m[\u001b[0m\u001b[1;36m0\u001b[0m\u001b[1;33m:\u001b[0m\u001b[1;36m8\u001b[0m\u001b[1;33m]\u001b[0m\u001b[1;33m)\u001b[0m\u001b[1;33m\u001b[0m\u001b[1;33m\u001b[0m\u001b[0m\n\u001b[1;32m----> 4\u001b[1;33m \u001b[0mprint\u001b[0m\u001b[1;33m(\u001b[0m\u001b[0mlen_list\u001b[0m\u001b[1;33m[\u001b[0m\u001b[1;36m7\u001b[0m\u001b[1;33m]\u001b[0m\u001b[1;33m)\u001b[0m\u001b[1;33m\u001b[0m\u001b[1;33m\u001b[0m\u001b[0m\n\u001b[0m",
      "\u001b[1;31mIndexError\u001b[0m: list index out of range"
     ]
    }
   ],
   "source": [
    "print(v)\n",
    "print(len_list)\n",
    "print(len_list[0:8])\n",
    "print(len_list[7])"
   ]
  },
  {
   "cell_type": "code",
   "execution_count": 222,
   "metadata": {},
   "outputs": [],
   "source": [
    "def num_look_back(list_obj, str_len, prev_lens_list):\n",
    "\n",
    "\n",
    "    if list_obj[3] == 11:\n",
    "        look_back = list_obj[4]\n",
    "        \n",
    "    else:\n",
    "        \n",
    "\n",
    "        val = [x for x in prev_lens_list if prev_lens_list[-1] - x == str_len][0]\n",
    "        look_back_index = prev_lens_list.index(val)\n",
    "        look_back = len(prev_lens_list) - look_back_index\n",
    "\n",
    "    return(look_back)"
   ]
  }
 ],
 "metadata": {
  "interpreter": {
   "hash": "2a3eb9d1762ced21ab592cb88b32ee1eb2a160e74d175aca6c3a2172cd8e5637"
  },
  "kernelspec": {
   "display_name": "Python 3.9.2 64-bit",
   "language": "python",
   "name": "python3"
  },
  "language_info": {
   "codemirror_mode": {
    "name": "ipython",
    "version": 3
   },
   "file_extension": ".py",
   "mimetype": "text/x-python",
   "name": "python",
   "nbconvert_exporter": "python",
   "pygments_lexer": "ipython3",
   "version": "3.9.2"
  },
  "orig_nbformat": 4
 },
 "nbformat": 4,
 "nbformat_minor": 2
}
