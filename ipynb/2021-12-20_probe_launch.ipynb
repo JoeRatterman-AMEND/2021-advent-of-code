{
 "cells": [
  {
   "cell_type": "code",
   "execution_count": 77,
   "metadata": {},
   "outputs": [],
   "source": [
    "# Loaded required packages\n",
    "from collections import Counter\n",
    "import numpy as np\n",
    "from collections import defaultdict, deque\n",
    "\n",
    "# Load input data\n",
    "file_path = \"C:\\\\Users\\\\JoeRatterman\\\\Documents\\\\GitHub\\\\2021-advent-of-code\\\\input-files\\\\2021-12-20_input.txt\"\n",
    "data_list = open(file_path, 'r').read().split(\"\\n\\n\")\n",
    "\n",
    "\n",
    "# Clean enhancement string\n",
    "enhance_str = ''.join(data_list[0].split(\"\\n\"))\n",
    "enhance_str = data_list[0]\n",
    "\n",
    "# Clean input image\n",
    "input_img = data_list[1].split(\"\\n\")\n",
    "\n"
   ]
  },
  {
   "cell_type": "code",
   "execution_count": 78,
   "metadata": {},
   "outputs": [
    {
     "data": {
      "text/plain": [
       "'###.#..##.#...#.##.#..#...#####..###....###..##..####.#..#.##.#.#...##.##.##.#...#....##..#..####...####..######..#.##..###......#..##.##.##...###.#..#.#.##.##.#..#####....####...#..##.###.#....#..#..#..###.#.#.##.#.#.#.######...#.###..####.....##..#..#.#....#.####.##.##..#.##.....##...#..#.#..####.##.#..#..#.###.##....##.#..........###.#..#.....#.##.##......##.....##...#........#.#......###...#####....##.#.#..###...#.#.###.##.#..#..###.#......#......####..#.#.##..#..#...####.#.#.#.#...#.####....##.###.....'"
      ]
     },
     "execution_count": 78,
     "metadata": {},
     "output_type": "execute_result"
    }
   ],
   "source": [
    "enhance_str"
   ]
  },
  {
   "cell_type": "code",
   "execution_count": 79,
   "metadata": {},
   "outputs": [],
   "source": [
    "# Function to split string\n",
    "def str_split(word):\n",
    "    return list(word)\n",
    "\n",
    "# Function to check if index is valid \n",
    "def is_valid(array, index):    \n",
    "    row, column = index\n",
    "    return 0 <= row < len(array) and 0 <= column < len(array[row])\n",
    "\n",
    "# Function to get index for neighboring pixesl\n",
    "def get_next(node, offset):\n",
    "    \"\"\"Find the next location based on an offset from the current location.\"\"\"\n",
    "    row, column = node\n",
    "    row_offset, column_offset = offset\n",
    "    return row + row_offset, column + column_offset"
   ]
  },
  {
   "cell_type": "code",
   "execution_count": 80,
   "metadata": {},
   "outputs": [],
   "source": [
    "# Function to add rows & columns to array\n",
    "def extend_array(array):\n",
    "\n",
    "    a_list = [\".\"]*len(array)\n",
    "\n",
    "\n",
    "    for i in range(2):\n",
    "        array = np.column_stack((array, a_list))\n",
    "        array = np.column_stack((a_list, array))\n",
    "\n",
    "\n",
    "    b_list = [\".\"]*len(array[0])\n",
    "\n",
    "    for i in range(2):\n",
    "        array = np.row_stack((array, b_list))\n",
    "        array = np.row_stack((b_list, array))\n",
    "\n",
    "    return(array)"
   ]
  },
  {
   "cell_type": "code",
   "execution_count": 81,
   "metadata": {},
   "outputs": [],
   "source": [
    "# Function to find index strings\n",
    "def find_index(array, neighbors):\n",
    "\n",
    "    pix_str_list = []\n",
    "    pix_str_dict = {}\n",
    "    for i in range(len(array)):\n",
    "        for j in range(len(array)):\n",
    "\n",
    "            current_pix = array[i,j]\n",
    "\n",
    "            pix_str = \"\"\n",
    "            for p in range(len(neighbors)):\n",
    "            \n",
    "                pixel = get_next((i,j), neighbors[p])\n",
    "                \n",
    "                if is_valid(array, pixel):\n",
    "                    pix_val = array[pixel]\n",
    "\n",
    "                else:\n",
    "                    pix_val = \".\"\n",
    "                \n",
    "                pix_str += pix_val\n",
    "\n",
    "\n",
    "            pix_str_list.append(pix_str)\n",
    "            pix_str_dict[(i,j)] = pix_str\n",
    "\n",
    "\n",
    "    return(pix_str_dict)\n"
   ]
  },
  {
   "cell_type": "code",
   "execution_count": 82,
   "metadata": {},
   "outputs": [],
   "source": [
    "# Function to split list into multiple lists\n",
    "def chunks(l, n):\n",
    "    n = max(1, n)\n",
    "    return (l[i:i+n] for i in range(0, len(l), n))"
   ]
  },
  {
   "cell_type": "code",
   "execution_count": 83,
   "metadata": {},
   "outputs": [],
   "source": [
    "# Function to generate new matrix after enhancing\n",
    "def gen_new_matrix(array, list_obj, string_obj):\n",
    "\n",
    "    bit_str_list = []\n",
    "    for i in range(len(list_obj)):\n",
    "\n",
    "        curr_str = list_obj[i]\n",
    "        curr_str = str(curr_str).replace(\".\", \"0\")\n",
    "        curr_str = str(curr_str).replace(\"#\", \"1\")\n",
    "\n",
    "        bit_str_list.append(string_obj[int(curr_str, 2)])\n",
    "\n",
    "    new_array = list(chunks(bit_str_list, len(array[0])))\n",
    "\n",
    "    return(np.array(new_array))"
   ]
  },
  {
   "cell_type": "code",
   "execution_count": 84,
   "metadata": {},
   "outputs": [],
   "source": [
    "# Function to generate new matrix after enhancing\n",
    "def gen_new_matrix(array, dict_obj, string_obj):\n",
    "\n",
    "    bit_str_list = []\n",
    "    for k,v in dict_obj.items():\n",
    "\n",
    "        curr_str = dict_obj[k]\n",
    "        curr_str = str(curr_str).replace(\".\", \"0\")\n",
    "        curr_str = str(curr_str).replace(\"#\", \"1\")\n",
    "\n",
    "        if (k[0] == 0) or (k[0] == 1) or (k[1] == 0) or (k[1] == 1) or (k[0] == len(array[0])) or (k[0] == len(array[0]) - 1) or (k[1] == len(array) - 1) or (k[1] == len(array)):\n",
    "\n",
    "            if curr_str == \"000000000\":\n",
    "                bit_str_list.append(\".\")\n",
    "            else: \n",
    "                bit_str_list.append(string_obj[int(curr_str, 2)])\n",
    "        else:\n",
    "            bit_str_list.append(string_obj[int(curr_str, 2)])\n",
    "\n",
    "    new_array = list(chunks(bit_str_list, len(array[0])))\n",
    "\n",
    "    return(np.array(new_array))"
   ]
  },
  {
   "cell_type": "code",
   "execution_count": 85,
   "metadata": {},
   "outputs": [],
   "source": [
    "# Positions to check for neighbor pixesl\n",
    "pair_check = ((-1,-1), (-1,0), (-1,1), (0,-1), (0,0), (0,1), (1,-1), (1,0), (1,1))"
   ]
  },
  {
   "cell_type": "code",
   "execution_count": 86,
   "metadata": {},
   "outputs": [
    {
     "name": "stdout",
     "output_type": "stream",
     "text": [
      "[['.' '#' '#' ... '.' '.' '.']\n",
      " ['.' '#' '.' ... '.' '#' '#']\n",
      " ['#' '#' '.' ... '#' '#' '#']\n",
      " ...\n",
      " ['.' '#' '#' ... '#' '#' '.']\n",
      " ['.' '#' '.' ... '#' '#' '#']\n",
      " ['.' '#' '.' ... '.' '.' '#']]\n"
     ]
    }
   ],
   "source": [
    "# Convert image to list of lists\n",
    "input_list = []\n",
    "for i in range(len(input_img)):\n",
    "    input_list.append(str_split(input_img[i]))\n",
    "\n",
    "# Convert to array\n",
    "input_array = np.array(input_list) \n",
    "print(input_array)"
   ]
  },
  {
   "cell_type": "code",
   "execution_count": 87,
   "metadata": {},
   "outputs": [
    {
     "data": {
      "text/plain": [
       "array([['.', '.', '.', ..., '.', '.', '.'],\n",
       "       ['.', '.', '.', ..., '.', '.', '.'],\n",
       "       ['.', '.', '#', ..., '#', '#', '.'],\n",
       "       ...,\n",
       "       ['.', '.', '#', ..., '#', '#', '.'],\n",
       "       ['.', '.', '#', ..., '#', '#', '.'],\n",
       "       ['.', '.', '.', ..., '.', '.', '.']], dtype='<U1')"
      ]
     },
     "execution_count": 87,
     "metadata": {},
     "output_type": "execute_result"
    }
   ],
   "source": [
    "for i in range(2):\n",
    "\n",
    "    # Extend input picture\n",
    "    input_array = extend_array(input_array)\n",
    "\n",
    "    # Find indices from enhancement string\n",
    "    pix_str_list = find_index(input_array, pair_check)\n",
    "   \n",
    "    # Generate new matrix after enhancing\n",
    "    input_array = gen_new_matrix(input_array, pix_str_list, enhance_str)\n",
    "\n",
    "\n",
    "\n",
    "input_array"
   ]
  },
  {
   "cell_type": "code",
   "execution_count": 90,
   "metadata": {},
   "outputs": [
    {
     "data": {
      "text/plain": [
       "array(['.', '.', '.', '.', '.', '.', '.', '.', '.', '.', '.', '.', '.',\n",
       "       '.', '.', '.', '.', '.', '.', '.', '.', '.', '.', '.', '.', '.',\n",
       "       '.', '.', '.', '.', '.', '.', '.', '.', '.', '.', '.', '.', '.',\n",
       "       '.', '.', '.', '.', '.', '.', '.', '.', '.', '.', '.', '.', '.',\n",
       "       '.', '.', '.', '.', '.', '.', '.', '.', '.', '.', '.', '.', '.',\n",
       "       '.', '.', '.', '.', '.', '.', '.', '.', '.', '.', '.', '.', '.',\n",
       "       '.', '.', '.', '.', '.', '.', '.', '.', '.', '.', '.', '.', '.',\n",
       "       '.', '.', '.', '.', '.', '.', '.', '.', '.', '.', '.', '.', '.',\n",
       "       '.', '.', '.', '.'], dtype='<U1')"
      ]
     },
     "execution_count": 90,
     "metadata": {},
     "output_type": "execute_result"
    }
   ],
   "source": [
    "input_array[0]"
   ]
  },
  {
   "cell_type": "code",
   "execution_count": 91,
   "metadata": {},
   "outputs": [
    {
     "data": {
      "text/plain": [
       "True"
      ]
     },
     "execution_count": 91,
     "metadata": {},
     "output_type": "execute_result"
    }
   ],
   "source": [
    "np.all(input_array[0] == \".\")"
   ]
  },
  {
   "cell_type": "code",
   "execution_count": 88,
   "metadata": {},
   "outputs": [
    {
     "data": {
      "text/plain": [
       "6295"
      ]
     },
     "execution_count": 88,
     "metadata": {},
     "output_type": "execute_result"
    }
   ],
   "source": [
    "len(np.where(input_array == \".\")[0])"
   ]
  },
  {
   "cell_type": "code",
   "execution_count": 14,
   "metadata": {},
   "outputs": [
    {
     "data": {
      "text/plain": [
       "'happy'"
      ]
     },
     "execution_count": 14,
     "metadata": {},
     "output_type": "execute_result"
    }
   ],
   "source": [
    "(\"happy\")\n"
   ]
  },
  {
   "cell_type": "code",
   "execution_count": 149,
   "metadata": {},
   "outputs": [
    {
     "data": {
      "text/plain": [
       "array([['.', '.', '.', '.', '.', '.', '.', '.', '.'],\n",
       "       ['.', '.', '.', '.', '.', '.', '.', '.', '.'],\n",
       "       ['.', '.', '#', '.', '.', '#', '.', '.', '.'],\n",
       "       ['.', '.', '#', '.', '.', '.', '.', '.', '.'],\n",
       "       ['.', '.', '#', '#', '.', '.', '#', '.', '.'],\n",
       "       ['.', '.', '.', '.', '#', '.', '.', '.', '.'],\n",
       "       ['.', '.', '.', '.', '#', '#', '#', '.', '.'],\n",
       "       ['.', '.', '.', '.', '.', '.', '.', '.', '.'],\n",
       "       ['.', '.', '.', '.', '.', '.', '.', '.', '.']], dtype='<U1')"
      ]
     },
     "execution_count": 149,
     "metadata": {},
     "output_type": "execute_result"
    }
   ],
   "source": [
    "input_array = extend_array(input_array)\n",
    "input_array"
   ]
  },
  {
   "cell_type": "code",
   "execution_count": 156,
   "metadata": {},
   "outputs": [],
   "source": [
    "pix_str_list = find_index(input_array, pair_check)"
   ]
  },
  {
   "cell_type": "code",
   "execution_count": 159,
   "metadata": {},
   "outputs": [
    {
     "data": {
      "text/plain": [
       "array([['.', '.', '.', '.', '.', '.', '.', '.', '.'],\n",
       "       ['.', '.', '#', '#', '.', '#', '#', '.', '.'],\n",
       "       ['.', '#', '.', '.', '#', '.', '#', '.', '.'],\n",
       "       ['.', '#', '#', '.', '#', '.', '.', '#', '.'],\n",
       "       ['.', '#', '#', '#', '#', '.', '.', '#', '.'],\n",
       "       ['.', '.', '#', '.', '.', '#', '#', '.', '.'],\n",
       "       ['.', '.', '.', '#', '#', '.', '.', '#', '.'],\n",
       "       ['.', '.', '.', '.', '#', '.', '#', '.', '.'],\n",
       "       ['.', '.', '.', '.', '.', '.', '.', '.', '.']], dtype='<U1')"
      ]
     },
     "execution_count": 159,
     "metadata": {},
     "output_type": "execute_result"
    }
   ],
   "source": [
    "gen_new_matrix(input_array, pix_str_list, enhance_str)"
   ]
  },
  {
   "cell_type": "code",
   "execution_count": null,
   "metadata": {},
   "outputs": [],
   "source": []
  },
  {
   "cell_type": "code",
   "execution_count": null,
   "metadata": {},
   "outputs": [],
   "source": []
  },
  {
   "cell_type": "code",
   "execution_count": null,
   "metadata": {},
   "outputs": [],
   "source": []
  },
  {
   "cell_type": "code",
   "execution_count": null,
   "metadata": {},
   "outputs": [],
   "source": []
  },
  {
   "cell_type": "code",
   "execution_count": 157,
   "metadata": {},
   "outputs": [
    {
     "data": {
      "text/plain": [
       "array([['.', '.', '.', '.', '.', '.', '.', '.', '.'],\n",
       "       ['.', '.', '#', '#', '.', '#', '#', '.', '.'],\n",
       "       ['.', '#', '.', '.', '#', '.', '#', '.', '.'],\n",
       "       ['.', '#', '#', '.', '#', '.', '.', '#', '.'],\n",
       "       ['.', '#', '#', '#', '#', '.', '.', '#', '.'],\n",
       "       ['.', '.', '#', '.', '.', '#', '#', '.', '.'],\n",
       "       ['.', '.', '.', '#', '#', '.', '.', '#', '.'],\n",
       "       ['.', '.', '.', '.', '#', '.', '#', '.', '.'],\n",
       "       ['.', '.', '.', '.', '.', '.', '.', '.', '.']], dtype='<U1')"
      ]
     },
     "execution_count": 157,
     "metadata": {},
     "output_type": "execute_result"
    }
   ],
   "source": [
    "bit_str_list = []\n",
    "for i in range(len(pix_str_list)):\n",
    "\n",
    "    curr_str = pix_str_list[i]\n",
    "    curr_str = str(curr_str).replace(\".\", \"0\")\n",
    "    curr_str = str(curr_str).replace(\"#\", \"1\")\n",
    "\n",
    "    bit_str_list.append(enhance_str[int(curr_str, 2)])\n",
    "\n",
    "new_array = list(chunks(bit_str_list, len(input_array[0])))\n",
    "\n",
    "np.array(new_array)"
   ]
  },
  {
   "cell_type": "code",
   "execution_count": null,
   "metadata": {},
   "outputs": [],
   "source": []
  }
 ],
 "metadata": {
  "interpreter": {
   "hash": "2a3eb9d1762ced21ab592cb88b32ee1eb2a160e74d175aca6c3a2172cd8e5637"
  },
  "kernelspec": {
   "display_name": "Python 3.9.2 64-bit",
   "language": "python",
   "name": "python3"
  },
  "language_info": {
   "codemirror_mode": {
    "name": "ipython",
    "version": 3
   },
   "file_extension": ".py",
   "mimetype": "text/x-python",
   "name": "python",
   "nbconvert_exporter": "python",
   "pygments_lexer": "ipython3",
   "version": "3.9.2"
  },
  "orig_nbformat": 4
 },
 "nbformat": 4,
 "nbformat_minor": 2
}
