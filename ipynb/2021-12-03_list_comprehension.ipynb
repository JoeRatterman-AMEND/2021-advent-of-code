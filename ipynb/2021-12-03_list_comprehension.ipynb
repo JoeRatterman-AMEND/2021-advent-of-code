{
 "cells": [
  {
   "cell_type": "code",
   "execution_count": 3,
   "metadata": {},
   "outputs": [
    {
     "data": {
      "text/plain": [
       "['010111111011',\n",
       " '010010101110',\n",
       " '011001001100',\n",
       " '001000001010',\n",
       " '111100101000',\n",
       " '111010101100',\n",
       " '000111101111',\n",
       " '010011010011',\n",
       " '100010111011',\n",
       " '101011000111']"
      ]
     },
     "execution_count": 3,
     "metadata": {},
     "output_type": "execute_result"
    }
   ],
   "source": [
    "# Load input data\n",
    "file_path = \"C:\\\\Users\\\\JoeRatterman\\\\Documents\\\\GitHub\\\\2021-advent-of-code\\\\input-files\\\\2021-12-03_input.txt\"\n",
    "data_list = open(file_path, 'r').read().split('\\n')\n",
    "\n",
    "data_list[0:10]"
   ]
  },
  {
   "cell_type": "code",
   "execution_count": 4,
   "metadata": {},
   "outputs": [
    {
     "data": {
      "text/plain": [
       "1000"
      ]
     },
     "execution_count": 4,
     "metadata": {},
     "output_type": "execute_result"
    }
   ],
   "source": [
    "len(data_list)"
   ]
  },
  {
   "cell_type": "code",
   "execution_count": 43,
   "metadata": {},
   "outputs": [],
   "source": [
    "# Function to calculate most common value in nth character of list object\n",
    "def power_consumption(list_obj):\n",
    "\n",
    "    # Initialize gamma & epsilon result lists\n",
    "    gamma_list = []\n",
    "    epsilon_list = []\n",
    "\n",
    "    for j in range(len(list_obj[0])):\n",
    "\n",
    "        # Initialize empty lists for data tracking\n",
    "        list_0 = []\n",
    "        list_1 = []\n",
    "\n",
    "        for i in range(len(list_obj)):\n",
    "\n",
    "            value = int(list_obj[i][j])\n",
    "\n",
    "            # Assign value to the correct 0 / 1 list\n",
    "            if value == 0:\n",
    "                list_0.append(value)\n",
    "            else:\n",
    "                list_1.append(value)\n",
    "\n",
    "        # Calculate which character is more common\n",
    "        if len(list_0) > len(list_1):\n",
    "            gamma_list.append(0)\n",
    "            epsilon_list.append(1)\n",
    "        else:\n",
    "            gamma_list.append(1)\n",
    "            epsilon_list.append(0)\n",
    "\n",
    "    gamma = int(''.join(str(e) for e in gamma_list), 2)\n",
    "    epsilon = int(''.join(str(e) for e in epsilon_list), 2)\n",
    "\n",
    "        \n",
    "    print(\"gamma value: \", gamma)\n",
    "    print(\"epsilon value: \", epsilon)\n",
    "\n",
    "    return(gamma*epsilon)\n",
    "\n"
   ]
  },
  {
   "cell_type": "code",
   "execution_count": 44,
   "metadata": {},
   "outputs": [
    {
     "name": "stdout",
     "output_type": "stream",
     "text": [
      "gamma value:  2987\n",
      "epsilon value:  1108\n"
     ]
    },
    {
     "data": {
      "text/plain": [
       "3309596"
      ]
     },
     "execution_count": 44,
     "metadata": {},
     "output_type": "execute_result"
    }
   ],
   "source": [
    "power_consumption(data_list)"
   ]
  },
  {
   "cell_type": "code",
   "execution_count": 13,
   "metadata": {},
   "outputs": [],
   "source": [
    "# Function to iteratively filter list\n",
    "def iter_list_filter(list_obj, most_common_val):\n",
    "\n",
    "    # Generate copy of input list\n",
    "    list_copy = list_obj\n",
    "    # based on input - define the filter logic\n",
    "    if most_common_val == 1:\n",
    "        list_0_int = 0\n",
    "        list_1_int = 1\n",
    "    else: \n",
    "        list_0_int = 1\n",
    "        list_1_int = 0\n",
    "\n",
    "\n",
    "\n",
    "    # Loop through each digit in string\n",
    "    for j in range(len(list_obj[0])):\n",
    "\n",
    "        # Initialize empty lists for data tracking\n",
    "        list_0 = []\n",
    "        list_1 = []\n",
    "\n",
    "        # Loop through remaining list objects\n",
    "        for i in range(len(list_copy)):\n",
    "\n",
    "            value = int(list_copy[i][j])\n",
    "            # Assign value to the correct 0 / 1 list\n",
    "            if value == 0:\n",
    "                list_0.append(value)\n",
    "            else:\n",
    "                list_1.append(value)\n",
    "\n",
    "        # Calculate which character is more common & filter input list based on selection criteria\n",
    "        if len(list_0) == len(list_1):\n",
    "            list_copy = [x for x in list_copy if x[j] == str(list_0_int)]\n",
    "\n",
    "        if len(list_0) < len(list_1):\n",
    "            list_copy = [x for x in list_copy if x[j] == str(list_0_int)]\n",
    "        \n",
    "        if len(list_0) > len(list_1):\n",
    "            list_copy = [x for x in list_copy if x[j] == str(list_1_int)]\n",
    "        \n",
    "        # If only 1 item remains - stop the loop\n",
    "        if len(list_copy) == 1:\n",
    "            break\n",
    "\n",
    "\n",
    "    return(int(list_copy[0], 2)) \n"
   ]
  },
  {
   "cell_type": "code",
   "execution_count": 16,
   "metadata": {},
   "outputs": [
    {
     "data": {
      "text/plain": [
       "2981085"
      ]
     },
     "execution_count": 16,
     "metadata": {},
     "output_type": "execute_result"
    }
   ],
   "source": [
    "iter_list_filter(data_list, 1)*iter_list_filter(data_list, 0)"
   ]
  }
 ],
 "metadata": {
  "interpreter": {
   "hash": "2a3eb9d1762ced21ab592cb88b32ee1eb2a160e74d175aca6c3a2172cd8e5637"
  },
  "kernelspec": {
   "display_name": "Python 3.9.2 64-bit",
   "language": "python",
   "name": "python3"
  },
  "language_info": {
   "codemirror_mode": {
    "name": "ipython",
    "version": 3
   },
   "file_extension": ".py",
   "mimetype": "text/x-python",
   "name": "python",
   "nbconvert_exporter": "python",
   "pygments_lexer": "ipython3",
   "version": "3.9.2"
  },
  "orig_nbformat": 4
 },
 "nbformat": 4,
 "nbformat_minor": 2
}
