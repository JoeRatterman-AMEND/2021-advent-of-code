{
 "cells": [
  {
   "cell_type": "code",
   "execution_count": 167,
   "metadata": {},
   "outputs": [],
   "source": [
    "from collections import OrderedDict, Counter\n",
    "from itertools import cycle, islice\n",
    "import numpy as np\n"
   ]
  },
  {
   "cell_type": "code",
   "execution_count": 168,
   "metadata": {},
   "outputs": [
    {
     "data": {
      "text/plain": [
       "[2, 5, 3, 4, 4, 5, 3, 2, 3, 3]"
      ]
     },
     "execution_count": 168,
     "metadata": {},
     "output_type": "execute_result"
    }
   ],
   "source": [
    "# Load input data\n",
    "file_path = \"C:\\\\Users\\\\JoeRatterman\\\\Documents\\\\GitHub\\\\2021-advent-of-code\\\\input-files\\\\2021-12-06_input.txt\"\n",
    "data_list = open(file_path, 'r').read().split('\\n')\n",
    "\n",
    "# Convert list to integers\n",
    "data_list = data_list[0].split(\",\")\n",
    "data_list = [int(x) for x in data_list]\n",
    "\n",
    "data_list[0:10]"
   ]
  },
  {
   "cell_type": "code",
   "execution_count": 169,
   "metadata": {},
   "outputs": [],
   "source": [
    "# Function to shift dictionary values by 1 point\n",
    "def shift(d, n):\n",
    "    return dict(zip(d, islice(cycle(d.values()), n, None)))"
   ]
  },
  {
   "cell_type": "code",
   "execution_count": 170,
   "metadata": {},
   "outputs": [
    {
     "data": {
      "text/plain": [
       "{0: 0, 1: 69, 2: 60, 3: 45, 4: 67, 5: 59, 6: 0, 7: 0, 8: 0}"
      ]
     },
     "execution_count": 170,
     "metadata": {},
     "output_type": "execute_result"
    }
   ],
   "source": [
    "# Create dictionary with count of each value\n",
    "count_dict = Counter(data_list)\n",
    "\n",
    "# Add missing keys to dictionary\n",
    "count_dict[0] = 0\n",
    "count_dict[7] = 0\n",
    "count_dict[8] = 0\n",
    "count_dict[6] = 0\n",
    "\n",
    "# Sort dictionary\n",
    "count_dict = dict(OrderedDict(sorted(count_dict.items())))\n",
    "count_dict"
   ]
  },
  {
   "cell_type": "code",
   "execution_count": 171,
   "metadata": {},
   "outputs": [],
   "source": [
    "# Functtion to simualte exponential growth\n",
    "def iterate_exponential_growth(dict_obj, length_of_time):\n",
    "\n",
    "    # Define range of time\n",
    "    period_len = length_of_time\n",
    "\n",
    "    for i in range(period_len):\n",
    "\n",
    "        # Calculate how many new fish will be born\n",
    "        new_rep = dict_obj[0]\n",
    "\n",
    "        # Modify the number of 7's - because they will shift to 6 (0 goes to 6)\n",
    "        dict_obj.update({7:(dict_obj[7] + new_rep)})\n",
    "\n",
    "        # Shift dictionary values to the left\n",
    "        dict_obj = shift(dict_obj, 1)\n",
    "\n",
    "        # Add new 8's born\n",
    "        dict_obj.update({8:new_rep})\n",
    "\n",
    "        # Re-order dictionary\n",
    "        dict_obj = dict(OrderedDict(sorted(dict_obj.items())))\n",
    "\n",
    "\n",
    "\n",
    "    return(sum(dict_obj.values()))"
   ]
  },
  {
   "cell_type": "code",
   "execution_count": 172,
   "metadata": {},
   "outputs": [
    {
     "data": {
      "text/plain": [
       "1574445493136"
      ]
     },
     "execution_count": 172,
     "metadata": {},
     "output_type": "execute_result"
    }
   ],
   "source": [
    "iterate_exponential_growth(count_dict, 256)"
   ]
  },
  {
   "cell_type": "code",
   "execution_count": null,
   "metadata": {},
   "outputs": [],
   "source": []
  }
 ],
 "metadata": {
  "interpreter": {
   "hash": "2a3eb9d1762ced21ab592cb88b32ee1eb2a160e74d175aca6c3a2172cd8e5637"
  },
  "kernelspec": {
   "display_name": "Python 3.9.2 64-bit",
   "language": "python",
   "name": "python3"
  },
  "language_info": {
   "codemirror_mode": {
    "name": "ipython",
    "version": 3
   },
   "file_extension": ".py",
   "mimetype": "text/x-python",
   "name": "python",
   "nbconvert_exporter": "python",
   "pygments_lexer": "ipython3",
   "version": "3.9.2"
  },
  "orig_nbformat": 4
 },
 "nbformat": 4,
 "nbformat_minor": 2
}
